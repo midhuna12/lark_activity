{
 "cells": [
  {
   "cell_type": "markdown",
   "id": "19934019",
   "metadata": {},
   "source": [
    "Project Domain: Sales Forecasting"
   ]
  },
  {
   "cell_type": "markdown",
   "id": "c16cee68",
   "metadata": {},
   "source": [
    "# Importing libraries"
   ]
  },
  {
   "cell_type": "code",
   "execution_count": 3,
   "id": "7cc26745",
   "metadata": {},
   "outputs": [],
   "source": [
    "import pandas as pd \n",
    "import numpy as np\n",
    "import matplotlib.pyplot as plt\n",
    "import seaborn as sns"
   ]
  },
  {
   "cell_type": "code",
   "execution_count": 4,
   "id": "77ff9574",
   "metadata": {},
   "outputs": [],
   "source": [
    "import warnings\n",
    "warnings.filterwarnings('ignore')"
   ]
  },
  {
   "cell_type": "markdown",
   "id": "8c8ea221",
   "metadata": {},
   "source": [
    "# DATA DESCRIPTION"
   ]
  },
  {
   "cell_type": "markdown",
   "id": "68861ab2",
   "metadata": {},
   "source": [
    "Input data into python"
   ]
  },
  {
   "cell_type": "markdown",
   "id": "e6891627",
   "metadata": {},
   "source": [
    "Display 5 rows of data"
   ]
  },
  {
   "cell_type": "code",
   "execution_count": 5,
   "id": "1f92e09f",
   "metadata": {},
   "outputs": [],
   "source": [
    "train_data=pd.read_csv(\"train.csv\")\n",
    "test_data=pd.read_csv(\"test (3) (1).csv\")"
   ]
  },
  {
   "cell_type": "code",
   "execution_count": 6,
   "id": "b91e6a53",
   "metadata": {},
   "outputs": [
    {
     "data": {
      "text/html": [
       "<div>\n",
       "<style scoped>\n",
       "    .dataframe tbody tr th:only-of-type {\n",
       "        vertical-align: middle;\n",
       "    }\n",
       "\n",
       "    .dataframe tbody tr th {\n",
       "        vertical-align: top;\n",
       "    }\n",
       "\n",
       "    .dataframe thead th {\n",
       "        text-align: right;\n",
       "    }\n",
       "</style>\n",
       "<table border=\"1\" class=\"dataframe\">\n",
       "  <thead>\n",
       "    <tr style=\"text-align: right;\">\n",
       "      <th></th>\n",
       "      <th>date</th>\n",
       "      <th>store</th>\n",
       "      <th>item</th>\n",
       "      <th>sales</th>\n",
       "    </tr>\n",
       "  </thead>\n",
       "  <tbody>\n",
       "    <tr>\n",
       "      <th>0</th>\n",
       "      <td>01-01-2013</td>\n",
       "      <td>1</td>\n",
       "      <td>1</td>\n",
       "      <td>13</td>\n",
       "    </tr>\n",
       "    <tr>\n",
       "      <th>1</th>\n",
       "      <td>02-01-2013</td>\n",
       "      <td>1</td>\n",
       "      <td>1</td>\n",
       "      <td>11</td>\n",
       "    </tr>\n",
       "    <tr>\n",
       "      <th>2</th>\n",
       "      <td>03-01-2013</td>\n",
       "      <td>1</td>\n",
       "      <td>1</td>\n",
       "      <td>14</td>\n",
       "    </tr>\n",
       "    <tr>\n",
       "      <th>3</th>\n",
       "      <td>04-01-2013</td>\n",
       "      <td>1</td>\n",
       "      <td>1</td>\n",
       "      <td>13</td>\n",
       "    </tr>\n",
       "    <tr>\n",
       "      <th>4</th>\n",
       "      <td>05-01-2013</td>\n",
       "      <td>1</td>\n",
       "      <td>1</td>\n",
       "      <td>10</td>\n",
       "    </tr>\n",
       "    <tr>\n",
       "      <th>...</th>\n",
       "      <td>...</td>\n",
       "      <td>...</td>\n",
       "      <td>...</td>\n",
       "      <td>...</td>\n",
       "    </tr>\n",
       "    <tr>\n",
       "      <th>912995</th>\n",
       "      <td>27-12-2017</td>\n",
       "      <td>10</td>\n",
       "      <td>50</td>\n",
       "      <td>63</td>\n",
       "    </tr>\n",
       "    <tr>\n",
       "      <th>912996</th>\n",
       "      <td>28-12-2017</td>\n",
       "      <td>10</td>\n",
       "      <td>50</td>\n",
       "      <td>59</td>\n",
       "    </tr>\n",
       "    <tr>\n",
       "      <th>912997</th>\n",
       "      <td>29-12-2017</td>\n",
       "      <td>10</td>\n",
       "      <td>50</td>\n",
       "      <td>74</td>\n",
       "    </tr>\n",
       "    <tr>\n",
       "      <th>912998</th>\n",
       "      <td>30-12-2017</td>\n",
       "      <td>10</td>\n",
       "      <td>50</td>\n",
       "      <td>62</td>\n",
       "    </tr>\n",
       "    <tr>\n",
       "      <th>912999</th>\n",
       "      <td>31-12-2017</td>\n",
       "      <td>10</td>\n",
       "      <td>50</td>\n",
       "      <td>82</td>\n",
       "    </tr>\n",
       "  </tbody>\n",
       "</table>\n",
       "<p>913000 rows × 4 columns</p>\n",
       "</div>"
      ],
      "text/plain": [
       "              date  store  item  sales\n",
       "0       01-01-2013      1     1     13\n",
       "1       02-01-2013      1     1     11\n",
       "2       03-01-2013      1     1     14\n",
       "3       04-01-2013      1     1     13\n",
       "4       05-01-2013      1     1     10\n",
       "...            ...    ...   ...    ...\n",
       "912995  27-12-2017     10    50     63\n",
       "912996  28-12-2017     10    50     59\n",
       "912997  29-12-2017     10    50     74\n",
       "912998  30-12-2017     10    50     62\n",
       "912999  31-12-2017     10    50     82\n",
       "\n",
       "[913000 rows x 4 columns]"
      ]
     },
     "execution_count": 6,
     "metadata": {},
     "output_type": "execute_result"
    }
   ],
   "source": [
    "train_data"
   ]
  },
  {
   "cell_type": "code",
   "execution_count": 7,
   "id": "6e48b69f",
   "metadata": {},
   "outputs": [
    {
     "data": {
      "text/html": [
       "<div>\n",
       "<style scoped>\n",
       "    .dataframe tbody tr th:only-of-type {\n",
       "        vertical-align: middle;\n",
       "    }\n",
       "\n",
       "    .dataframe tbody tr th {\n",
       "        vertical-align: top;\n",
       "    }\n",
       "\n",
       "    .dataframe thead th {\n",
       "        text-align: right;\n",
       "    }\n",
       "</style>\n",
       "<table border=\"1\" class=\"dataframe\">\n",
       "  <thead>\n",
       "    <tr style=\"text-align: right;\">\n",
       "      <th></th>\n",
       "      <th>id</th>\n",
       "      <th>date</th>\n",
       "      <th>store</th>\n",
       "      <th>item</th>\n",
       "    </tr>\n",
       "  </thead>\n",
       "  <tbody>\n",
       "    <tr>\n",
       "      <th>0</th>\n",
       "      <td>0</td>\n",
       "      <td>01-01-2018</td>\n",
       "      <td>1</td>\n",
       "      <td>1</td>\n",
       "    </tr>\n",
       "    <tr>\n",
       "      <th>1</th>\n",
       "      <td>1</td>\n",
       "      <td>02-01-2018</td>\n",
       "      <td>1</td>\n",
       "      <td>1</td>\n",
       "    </tr>\n",
       "    <tr>\n",
       "      <th>2</th>\n",
       "      <td>2</td>\n",
       "      <td>03-01-2018</td>\n",
       "      <td>1</td>\n",
       "      <td>1</td>\n",
       "    </tr>\n",
       "    <tr>\n",
       "      <th>3</th>\n",
       "      <td>3</td>\n",
       "      <td>04-01-2018</td>\n",
       "      <td>1</td>\n",
       "      <td>1</td>\n",
       "    </tr>\n",
       "    <tr>\n",
       "      <th>4</th>\n",
       "      <td>4</td>\n",
       "      <td>05-01-2018</td>\n",
       "      <td>1</td>\n",
       "      <td>1</td>\n",
       "    </tr>\n",
       "    <tr>\n",
       "      <th>...</th>\n",
       "      <td>...</td>\n",
       "      <td>...</td>\n",
       "      <td>...</td>\n",
       "      <td>...</td>\n",
       "    </tr>\n",
       "    <tr>\n",
       "      <th>44995</th>\n",
       "      <td>44995</td>\n",
       "      <td>27-03-2018</td>\n",
       "      <td>10</td>\n",
       "      <td>50</td>\n",
       "    </tr>\n",
       "    <tr>\n",
       "      <th>44996</th>\n",
       "      <td>44996</td>\n",
       "      <td>28-03-2018</td>\n",
       "      <td>10</td>\n",
       "      <td>50</td>\n",
       "    </tr>\n",
       "    <tr>\n",
       "      <th>44997</th>\n",
       "      <td>44997</td>\n",
       "      <td>29-03-2018</td>\n",
       "      <td>10</td>\n",
       "      <td>50</td>\n",
       "    </tr>\n",
       "    <tr>\n",
       "      <th>44998</th>\n",
       "      <td>44998</td>\n",
       "      <td>30-03-2018</td>\n",
       "      <td>10</td>\n",
       "      <td>50</td>\n",
       "    </tr>\n",
       "    <tr>\n",
       "      <th>44999</th>\n",
       "      <td>44999</td>\n",
       "      <td>31-03-2018</td>\n",
       "      <td>10</td>\n",
       "      <td>50</td>\n",
       "    </tr>\n",
       "  </tbody>\n",
       "</table>\n",
       "<p>45000 rows × 4 columns</p>\n",
       "</div>"
      ],
      "text/plain": [
       "          id        date  store  item\n",
       "0          0  01-01-2018      1     1\n",
       "1          1  02-01-2018      1     1\n",
       "2          2  03-01-2018      1     1\n",
       "3          3  04-01-2018      1     1\n",
       "4          4  05-01-2018      1     1\n",
       "...      ...         ...    ...   ...\n",
       "44995  44995  27-03-2018     10    50\n",
       "44996  44996  28-03-2018     10    50\n",
       "44997  44997  29-03-2018     10    50\n",
       "44998  44998  30-03-2018     10    50\n",
       "44999  44999  31-03-2018     10    50\n",
       "\n",
       "[45000 rows x 4 columns]"
      ]
     },
     "execution_count": 7,
     "metadata": {},
     "output_type": "execute_result"
    }
   ],
   "source": [
    "test_data"
   ]
  },
  {
   "cell_type": "markdown",
   "id": "a2138bf4",
   "metadata": {},
   "source": [
    "Basic summary of the dataset for numerical variables"
   ]
  },
  {
   "cell_type": "code",
   "execution_count": 11,
   "id": "9e54466e",
   "metadata": {},
   "outputs": [
    {
     "data": {
      "text/html": [
       "<div>\n",
       "<style scoped>\n",
       "    .dataframe tbody tr th:only-of-type {\n",
       "        vertical-align: middle;\n",
       "    }\n",
       "\n",
       "    .dataframe tbody tr th {\n",
       "        vertical-align: top;\n",
       "    }\n",
       "\n",
       "    .dataframe thead th {\n",
       "        text-align: right;\n",
       "    }\n",
       "</style>\n",
       "<table border=\"1\" class=\"dataframe\">\n",
       "  <thead>\n",
       "    <tr style=\"text-align: right;\">\n",
       "      <th></th>\n",
       "      <th>store</th>\n",
       "      <th>item</th>\n",
       "      <th>sales</th>\n",
       "    </tr>\n",
       "  </thead>\n",
       "  <tbody>\n",
       "    <tr>\n",
       "      <th>count</th>\n",
       "      <td>913000.000000</td>\n",
       "      <td>913000.000000</td>\n",
       "      <td>913000.000000</td>\n",
       "    </tr>\n",
       "    <tr>\n",
       "      <th>mean</th>\n",
       "      <td>5.500000</td>\n",
       "      <td>25.500000</td>\n",
       "      <td>52.250287</td>\n",
       "    </tr>\n",
       "    <tr>\n",
       "      <th>std</th>\n",
       "      <td>2.872283</td>\n",
       "      <td>14.430878</td>\n",
       "      <td>28.801144</td>\n",
       "    </tr>\n",
       "    <tr>\n",
       "      <th>min</th>\n",
       "      <td>1.000000</td>\n",
       "      <td>1.000000</td>\n",
       "      <td>0.000000</td>\n",
       "    </tr>\n",
       "    <tr>\n",
       "      <th>25%</th>\n",
       "      <td>3.000000</td>\n",
       "      <td>13.000000</td>\n",
       "      <td>30.000000</td>\n",
       "    </tr>\n",
       "    <tr>\n",
       "      <th>50%</th>\n",
       "      <td>5.500000</td>\n",
       "      <td>25.500000</td>\n",
       "      <td>47.000000</td>\n",
       "    </tr>\n",
       "    <tr>\n",
       "      <th>75%</th>\n",
       "      <td>8.000000</td>\n",
       "      <td>38.000000</td>\n",
       "      <td>70.000000</td>\n",
       "    </tr>\n",
       "    <tr>\n",
       "      <th>max</th>\n",
       "      <td>10.000000</td>\n",
       "      <td>50.000000</td>\n",
       "      <td>231.000000</td>\n",
       "    </tr>\n",
       "  </tbody>\n",
       "</table>\n",
       "</div>"
      ],
      "text/plain": [
       "               store           item          sales\n",
       "count  913000.000000  913000.000000  913000.000000\n",
       "mean        5.500000      25.500000      52.250287\n",
       "std         2.872283      14.430878      28.801144\n",
       "min         1.000000       1.000000       0.000000\n",
       "25%         3.000000      13.000000      30.000000\n",
       "50%         5.500000      25.500000      47.000000\n",
       "75%         8.000000      38.000000      70.000000\n",
       "max        10.000000      50.000000     231.000000"
      ]
     },
     "execution_count": 11,
     "metadata": {},
     "output_type": "execute_result"
    }
   ],
   "source": [
    "train_data.describe()"
   ]
  },
  {
   "cell_type": "code",
   "execution_count": 12,
   "id": "e8788383",
   "metadata": {},
   "outputs": [
    {
     "data": {
      "text/html": [
       "<div>\n",
       "<style scoped>\n",
       "    .dataframe tbody tr th:only-of-type {\n",
       "        vertical-align: middle;\n",
       "    }\n",
       "\n",
       "    .dataframe tbody tr th {\n",
       "        vertical-align: top;\n",
       "    }\n",
       "\n",
       "    .dataframe thead th {\n",
       "        text-align: right;\n",
       "    }\n",
       "</style>\n",
       "<table border=\"1\" class=\"dataframe\">\n",
       "  <thead>\n",
       "    <tr style=\"text-align: right;\">\n",
       "      <th></th>\n",
       "      <th>id</th>\n",
       "      <th>store</th>\n",
       "      <th>item</th>\n",
       "    </tr>\n",
       "  </thead>\n",
       "  <tbody>\n",
       "    <tr>\n",
       "      <th>count</th>\n",
       "      <td>45000.000000</td>\n",
       "      <td>45000.000000</td>\n",
       "      <td>45000.00000</td>\n",
       "    </tr>\n",
       "    <tr>\n",
       "      <th>mean</th>\n",
       "      <td>22499.500000</td>\n",
       "      <td>5.500000</td>\n",
       "      <td>25.50000</td>\n",
       "    </tr>\n",
       "    <tr>\n",
       "      <th>std</th>\n",
       "      <td>12990.525394</td>\n",
       "      <td>2.872313</td>\n",
       "      <td>14.43103</td>\n",
       "    </tr>\n",
       "    <tr>\n",
       "      <th>min</th>\n",
       "      <td>0.000000</td>\n",
       "      <td>1.000000</td>\n",
       "      <td>1.00000</td>\n",
       "    </tr>\n",
       "    <tr>\n",
       "      <th>25%</th>\n",
       "      <td>11249.750000</td>\n",
       "      <td>3.000000</td>\n",
       "      <td>13.00000</td>\n",
       "    </tr>\n",
       "    <tr>\n",
       "      <th>50%</th>\n",
       "      <td>22499.500000</td>\n",
       "      <td>5.500000</td>\n",
       "      <td>25.50000</td>\n",
       "    </tr>\n",
       "    <tr>\n",
       "      <th>75%</th>\n",
       "      <td>33749.250000</td>\n",
       "      <td>8.000000</td>\n",
       "      <td>38.00000</td>\n",
       "    </tr>\n",
       "    <tr>\n",
       "      <th>max</th>\n",
       "      <td>44999.000000</td>\n",
       "      <td>10.000000</td>\n",
       "      <td>50.00000</td>\n",
       "    </tr>\n",
       "  </tbody>\n",
       "</table>\n",
       "</div>"
      ],
      "text/plain": [
       "                 id         store         item\n",
       "count  45000.000000  45000.000000  45000.00000\n",
       "mean   22499.500000      5.500000     25.50000\n",
       "std    12990.525394      2.872313     14.43103\n",
       "min        0.000000      1.000000      1.00000\n",
       "25%    11249.750000      3.000000     13.00000\n",
       "50%    22499.500000      5.500000     25.50000\n",
       "75%    33749.250000      8.000000     38.00000\n",
       "max    44999.000000     10.000000     50.00000"
      ]
     },
     "execution_count": 12,
     "metadata": {},
     "output_type": "execute_result"
    }
   ],
   "source": [
    "test_data.describe()"
   ]
  },
  {
   "cell_type": "markdown",
   "id": "9e70e01b",
   "metadata": {},
   "source": [
    "Basic information of the data"
   ]
  },
  {
   "cell_type": "code",
   "execution_count": 13,
   "id": "c6b73e2f",
   "metadata": {},
   "outputs": [
    {
     "data": {
      "text/plain": [
       "('2013-01-01', '2017-12-31', '2018-01-01', '2018-03-31')"
      ]
     },
     "execution_count": 13,
     "metadata": {},
     "output_type": "execute_result"
    }
   ],
   "source": [
    "# Time Range\n",
    "train_data[\"date\"].min(), train_data[\"date\"].max(), test_data[\"date\"].min(), test_data[\"date\"].max()"
   ]
  },
  {
   "cell_type": "code",
   "execution_count": 14,
   "id": "d387be4a",
   "metadata": {},
   "outputs": [
    {
     "data": {
      "text/plain": [
       "store\n",
       "1     50\n",
       "2     50\n",
       "3     50\n",
       "4     50\n",
       "5     50\n",
       "6     50\n",
       "7     50\n",
       "8     50\n",
       "9     50\n",
       "10    50\n",
       "Name: item, dtype: int64"
      ]
     },
     "execution_count": 14,
     "metadata": {},
     "output_type": "execute_result"
    }
   ],
   "source": [
    "# How many items are in the store?\n",
    "train_data.groupby([\"store\"])[\"item\"].nunique()"
   ]
  },
  {
   "cell_type": "code",
   "execution_count": 15,
   "id": "48b1167f",
   "metadata": {},
   "outputs": [
    {
     "data": {
      "text/html": [
       "<div>\n",
       "<style scoped>\n",
       "    .dataframe tbody tr th:only-of-type {\n",
       "        vertical-align: middle;\n",
       "    }\n",
       "\n",
       "    .dataframe tbody tr th {\n",
       "        vertical-align: top;\n",
       "    }\n",
       "\n",
       "    .dataframe thead tr th {\n",
       "        text-align: left;\n",
       "    }\n",
       "\n",
       "    .dataframe thead tr:last-of-type th {\n",
       "        text-align: right;\n",
       "    }\n",
       "</style>\n",
       "<table border=\"1\" class=\"dataframe\">\n",
       "  <thead>\n",
       "    <tr>\n",
       "      <th></th>\n",
       "      <th colspan=\"7\" halign=\"left\">sales</th>\n",
       "    </tr>\n",
       "    <tr>\n",
       "      <th></th>\n",
       "      <th>count</th>\n",
       "      <th>sum</th>\n",
       "      <th>mean</th>\n",
       "      <th>median</th>\n",
       "      <th>std</th>\n",
       "      <th>min</th>\n",
       "      <th>max</th>\n",
       "    </tr>\n",
       "    <tr>\n",
       "      <th>store</th>\n",
       "      <th></th>\n",
       "      <th></th>\n",
       "      <th></th>\n",
       "      <th></th>\n",
       "      <th></th>\n",
       "      <th></th>\n",
       "      <th></th>\n",
       "    </tr>\n",
       "  </thead>\n",
       "  <tbody>\n",
       "    <tr>\n",
       "      <th>1</th>\n",
       "      <td>91300</td>\n",
       "      <td>4315603</td>\n",
       "      <td>47.268379</td>\n",
       "      <td>44.0</td>\n",
       "      <td>24.006252</td>\n",
       "      <td>1</td>\n",
       "      <td>155</td>\n",
       "    </tr>\n",
       "    <tr>\n",
       "      <th>2</th>\n",
       "      <td>91300</td>\n",
       "      <td>6120128</td>\n",
       "      <td>67.033165</td>\n",
       "      <td>62.0</td>\n",
       "      <td>33.595810</td>\n",
       "      <td>3</td>\n",
       "      <td>231</td>\n",
       "    </tr>\n",
       "    <tr>\n",
       "      <th>3</th>\n",
       "      <td>91300</td>\n",
       "      <td>5435144</td>\n",
       "      <td>59.530602</td>\n",
       "      <td>55.0</td>\n",
       "      <td>29.974102</td>\n",
       "      <td>3</td>\n",
       "      <td>196</td>\n",
       "    </tr>\n",
       "    <tr>\n",
       "      <th>4</th>\n",
       "      <td>91300</td>\n",
       "      <td>5012639</td>\n",
       "      <td>54.902946</td>\n",
       "      <td>51.0</td>\n",
       "      <td>27.733097</td>\n",
       "      <td>4</td>\n",
       "      <td>186</td>\n",
       "    </tr>\n",
       "    <tr>\n",
       "      <th>5</th>\n",
       "      <td>91300</td>\n",
       "      <td>3631016</td>\n",
       "      <td>39.770164</td>\n",
       "      <td>37.0</td>\n",
       "      <td>20.365757</td>\n",
       "      <td>2</td>\n",
       "      <td>130</td>\n",
       "    </tr>\n",
       "    <tr>\n",
       "      <th>6</th>\n",
       "      <td>91300</td>\n",
       "      <td>3627670</td>\n",
       "      <td>39.733516</td>\n",
       "      <td>37.0</td>\n",
       "      <td>20.310451</td>\n",
       "      <td>0</td>\n",
       "      <td>134</td>\n",
       "    </tr>\n",
       "    <tr>\n",
       "      <th>7</th>\n",
       "      <td>91300</td>\n",
       "      <td>3320009</td>\n",
       "      <td>36.363735</td>\n",
       "      <td>34.0</td>\n",
       "      <td>18.684825</td>\n",
       "      <td>1</td>\n",
       "      <td>122</td>\n",
       "    </tr>\n",
       "    <tr>\n",
       "      <th>8</th>\n",
       "      <td>91300</td>\n",
       "      <td>5856169</td>\n",
       "      <td>64.142048</td>\n",
       "      <td>60.0</td>\n",
       "      <td>32.231751</td>\n",
       "      <td>4</td>\n",
       "      <td>204</td>\n",
       "    </tr>\n",
       "    <tr>\n",
       "      <th>9</th>\n",
       "      <td>91300</td>\n",
       "      <td>5025976</td>\n",
       "      <td>55.049025</td>\n",
       "      <td>51.0</td>\n",
       "      <td>27.832186</td>\n",
       "      <td>4</td>\n",
       "      <td>195</td>\n",
       "    </tr>\n",
       "    <tr>\n",
       "      <th>10</th>\n",
       "      <td>91300</td>\n",
       "      <td>5360158</td>\n",
       "      <td>58.709288</td>\n",
       "      <td>54.0</td>\n",
       "      <td>29.554994</td>\n",
       "      <td>3</td>\n",
       "      <td>187</td>\n",
       "    </tr>\n",
       "  </tbody>\n",
       "</table>\n",
       "</div>"
      ],
      "text/plain": [
       "       sales                                               \n",
       "       count      sum       mean median        std min  max\n",
       "store                                                      \n",
       "1      91300  4315603  47.268379   44.0  24.006252   1  155\n",
       "2      91300  6120128  67.033165   62.0  33.595810   3  231\n",
       "3      91300  5435144  59.530602   55.0  29.974102   3  196\n",
       "4      91300  5012639  54.902946   51.0  27.733097   4  186\n",
       "5      91300  3631016  39.770164   37.0  20.365757   2  130\n",
       "6      91300  3627670  39.733516   37.0  20.310451   0  134\n",
       "7      91300  3320009  36.363735   34.0  18.684825   1  122\n",
       "8      91300  5856169  64.142048   60.0  32.231751   4  204\n",
       "9      91300  5025976  55.049025   51.0  27.832186   4  195\n",
       "10     91300  5360158  58.709288   54.0  29.554994   3  187"
      ]
     },
     "execution_count": 15,
     "metadata": {},
     "output_type": "execute_result"
    }
   ],
   "source": [
    "# Summary Stats for each store\n",
    "train_data.groupby([\"store\"]).agg({\"sales\": [\"count\",\"sum\", \"mean\", \"median\", \"std\", \"min\", \"max\"]})"
   ]
  },
  {
   "cell_type": "code",
   "execution_count": 16,
   "id": "612fd282",
   "metadata": {},
   "outputs": [
    {
     "data": {
      "text/html": [
       "<div>\n",
       "<style scoped>\n",
       "    .dataframe tbody tr th:only-of-type {\n",
       "        vertical-align: middle;\n",
       "    }\n",
       "\n",
       "    .dataframe tbody tr th {\n",
       "        vertical-align: top;\n",
       "    }\n",
       "\n",
       "    .dataframe thead tr th {\n",
       "        text-align: left;\n",
       "    }\n",
       "\n",
       "    .dataframe thead tr:last-of-type th {\n",
       "        text-align: right;\n",
       "    }\n",
       "</style>\n",
       "<table border=\"1\" class=\"dataframe\">\n",
       "  <thead>\n",
       "    <tr>\n",
       "      <th></th>\n",
       "      <th colspan=\"7\" halign=\"left\">sales</th>\n",
       "    </tr>\n",
       "    <tr>\n",
       "      <th></th>\n",
       "      <th>count</th>\n",
       "      <th>sum</th>\n",
       "      <th>mean</th>\n",
       "      <th>median</th>\n",
       "      <th>std</th>\n",
       "      <th>min</th>\n",
       "      <th>max</th>\n",
       "    </tr>\n",
       "    <tr>\n",
       "      <th>item</th>\n",
       "      <th></th>\n",
       "      <th></th>\n",
       "      <th></th>\n",
       "      <th></th>\n",
       "      <th></th>\n",
       "      <th></th>\n",
       "      <th></th>\n",
       "    </tr>\n",
       "  </thead>\n",
       "  <tbody>\n",
       "    <tr>\n",
       "      <th>1</th>\n",
       "      <td>18260</td>\n",
       "      <td>401384</td>\n",
       "      <td>21.981599</td>\n",
       "      <td>21.0</td>\n",
       "      <td>8.468922</td>\n",
       "      <td>1</td>\n",
       "      <td>59</td>\n",
       "    </tr>\n",
       "    <tr>\n",
       "      <th>2</th>\n",
       "      <td>18260</td>\n",
       "      <td>1069564</td>\n",
       "      <td>58.574151</td>\n",
       "      <td>56.0</td>\n",
       "      <td>20.093015</td>\n",
       "      <td>9</td>\n",
       "      <td>150</td>\n",
       "    </tr>\n",
       "    <tr>\n",
       "      <th>3</th>\n",
       "      <td>18260</td>\n",
       "      <td>669087</td>\n",
       "      <td>36.642223</td>\n",
       "      <td>35.0</td>\n",
       "      <td>13.179441</td>\n",
       "      <td>7</td>\n",
       "      <td>104</td>\n",
       "    </tr>\n",
       "    <tr>\n",
       "      <th>4</th>\n",
       "      <td>18260</td>\n",
       "      <td>401907</td>\n",
       "      <td>22.010241</td>\n",
       "      <td>21.0</td>\n",
       "      <td>8.403898</td>\n",
       "      <td>0</td>\n",
       "      <td>66</td>\n",
       "    </tr>\n",
       "    <tr>\n",
       "      <th>5</th>\n",
       "      <td>18260</td>\n",
       "      <td>335230</td>\n",
       "      <td>18.358708</td>\n",
       "      <td>18.0</td>\n",
       "      <td>7.265167</td>\n",
       "      <td>1</td>\n",
       "      <td>50</td>\n",
       "    </tr>\n",
       "    <tr>\n",
       "      <th>6</th>\n",
       "      <td>18260</td>\n",
       "      <td>1068281</td>\n",
       "      <td>58.503888</td>\n",
       "      <td>56.0</td>\n",
       "      <td>20.174898</td>\n",
       "      <td>11</td>\n",
       "      <td>148</td>\n",
       "    </tr>\n",
       "    <tr>\n",
       "      <th>7</th>\n",
       "      <td>18260</td>\n",
       "      <td>1068777</td>\n",
       "      <td>58.531051</td>\n",
       "      <td>56.0</td>\n",
       "      <td>20.146002</td>\n",
       "      <td>11</td>\n",
       "      <td>141</td>\n",
       "    </tr>\n",
       "    <tr>\n",
       "      <th>8</th>\n",
       "      <td>18260</td>\n",
       "      <td>1405108</td>\n",
       "      <td>76.950055</td>\n",
       "      <td>74.0</td>\n",
       "      <td>26.130697</td>\n",
       "      <td>15</td>\n",
       "      <td>181</td>\n",
       "    </tr>\n",
       "    <tr>\n",
       "      <th>9</th>\n",
       "      <td>18260</td>\n",
       "      <td>938379</td>\n",
       "      <td>51.389869</td>\n",
       "      <td>49.5</td>\n",
       "      <td>17.790158</td>\n",
       "      <td>6</td>\n",
       "      <td>134</td>\n",
       "    </tr>\n",
       "    <tr>\n",
       "      <th>10</th>\n",
       "      <td>18260</td>\n",
       "      <td>1337133</td>\n",
       "      <td>73.227437</td>\n",
       "      <td>70.0</td>\n",
       "      <td>24.823725</td>\n",
       "      <td>14</td>\n",
       "      <td>175</td>\n",
       "    </tr>\n",
       "    <tr>\n",
       "      <th>11</th>\n",
       "      <td>18260</td>\n",
       "      <td>1271925</td>\n",
       "      <td>69.656353</td>\n",
       "      <td>67.0</td>\n",
       "      <td>23.744732</td>\n",
       "      <td>11</td>\n",
       "      <td>170</td>\n",
       "    </tr>\n",
       "    <tr>\n",
       "      <th>12</th>\n",
       "      <td>18260</td>\n",
       "      <td>1271534</td>\n",
       "      <td>69.634940</td>\n",
       "      <td>67.0</td>\n",
       "      <td>23.738663</td>\n",
       "      <td>12</td>\n",
       "      <td>170</td>\n",
       "    </tr>\n",
       "    <tr>\n",
       "      <th>13</th>\n",
       "      <td>18260</td>\n",
       "      <td>1539621</td>\n",
       "      <td>84.316594</td>\n",
       "      <td>81.0</td>\n",
       "      <td>28.311031</td>\n",
       "      <td>20</td>\n",
       "      <td>210</td>\n",
       "    </tr>\n",
       "    <tr>\n",
       "      <th>14</th>\n",
       "      <td>18260</td>\n",
       "      <td>1071531</td>\n",
       "      <td>58.681873</td>\n",
       "      <td>56.0</td>\n",
       "      <td>20.079860</td>\n",
       "      <td>12</td>\n",
       "      <td>152</td>\n",
       "    </tr>\n",
       "    <tr>\n",
       "      <th>15</th>\n",
       "      <td>18260</td>\n",
       "      <td>1607442</td>\n",
       "      <td>88.030778</td>\n",
       "      <td>85.0</td>\n",
       "      <td>29.522852</td>\n",
       "      <td>17</td>\n",
       "      <td>231</td>\n",
       "    </tr>\n",
       "    <tr>\n",
       "      <th>16</th>\n",
       "      <td>18260</td>\n",
       "      <td>468480</td>\n",
       "      <td>25.656079</td>\n",
       "      <td>25.0</td>\n",
       "      <td>9.603270</td>\n",
       "      <td>2</td>\n",
       "      <td>70</td>\n",
       "    </tr>\n",
       "    <tr>\n",
       "      <th>17</th>\n",
       "      <td>18260</td>\n",
       "      <td>602486</td>\n",
       "      <td>32.994852</td>\n",
       "      <td>32.0</td>\n",
       "      <td>11.967610</td>\n",
       "      <td>4</td>\n",
       "      <td>83</td>\n",
       "    </tr>\n",
       "    <tr>\n",
       "      <th>18</th>\n",
       "      <td>18260</td>\n",
       "      <td>1538876</td>\n",
       "      <td>84.275794</td>\n",
       "      <td>81.0</td>\n",
       "      <td>28.430621</td>\n",
       "      <td>18</td>\n",
       "      <td>208</td>\n",
       "    </tr>\n",
       "    <tr>\n",
       "      <th>19</th>\n",
       "      <td>18260</td>\n",
       "      <td>736892</td>\n",
       "      <td>40.355531</td>\n",
       "      <td>39.0</td>\n",
       "      <td>14.332645</td>\n",
       "      <td>5</td>\n",
       "      <td>99</td>\n",
       "    </tr>\n",
       "    <tr>\n",
       "      <th>20</th>\n",
       "      <td>18260</td>\n",
       "      <td>867641</td>\n",
       "      <td>47.515936</td>\n",
       "      <td>46.0</td>\n",
       "      <td>16.490487</td>\n",
       "      <td>9</td>\n",
       "      <td>127</td>\n",
       "    </tr>\n",
       "    <tr>\n",
       "      <th>21</th>\n",
       "      <td>18260</td>\n",
       "      <td>736190</td>\n",
       "      <td>40.317087</td>\n",
       "      <td>39.0</td>\n",
       "      <td>14.338006</td>\n",
       "      <td>7</td>\n",
       "      <td>109</td>\n",
       "    </tr>\n",
       "    <tr>\n",
       "      <th>22</th>\n",
       "      <td>18260</td>\n",
       "      <td>1469971</td>\n",
       "      <td>80.502245</td>\n",
       "      <td>78.0</td>\n",
       "      <td>27.118163</td>\n",
       "      <td>14</td>\n",
       "      <td>214</td>\n",
       "    </tr>\n",
       "    <tr>\n",
       "      <th>23</th>\n",
       "      <td>18260</td>\n",
       "      <td>534979</td>\n",
       "      <td>29.297864</td>\n",
       "      <td>28.0</td>\n",
       "      <td>10.819549</td>\n",
       "      <td>3</td>\n",
       "      <td>81</td>\n",
       "    </tr>\n",
       "    <tr>\n",
       "      <th>24</th>\n",
       "      <td>18260</td>\n",
       "      <td>1205975</td>\n",
       "      <td>66.044633</td>\n",
       "      <td>64.0</td>\n",
       "      <td>22.531555</td>\n",
       "      <td>14</td>\n",
       "      <td>156</td>\n",
       "    </tr>\n",
       "    <tr>\n",
       "      <th>25</th>\n",
       "      <td>18260</td>\n",
       "      <td>1473334</td>\n",
       "      <td>80.686418</td>\n",
       "      <td>78.0</td>\n",
       "      <td>27.238817</td>\n",
       "      <td>18</td>\n",
       "      <td>193</td>\n",
       "    </tr>\n",
       "    <tr>\n",
       "      <th>26</th>\n",
       "      <td>18260</td>\n",
       "      <td>869981</td>\n",
       "      <td>47.644085</td>\n",
       "      <td>46.0</td>\n",
       "      <td>16.723912</td>\n",
       "      <td>8</td>\n",
       "      <td>119</td>\n",
       "    </tr>\n",
       "    <tr>\n",
       "      <th>27</th>\n",
       "      <td>18260</td>\n",
       "      <td>402628</td>\n",
       "      <td>22.049726</td>\n",
       "      <td>21.0</td>\n",
       "      <td>8.461641</td>\n",
       "      <td>1</td>\n",
       "      <td>59</td>\n",
       "    </tr>\n",
       "    <tr>\n",
       "      <th>28</th>\n",
       "      <td>18260</td>\n",
       "      <td>1604713</td>\n",
       "      <td>87.881325</td>\n",
       "      <td>85.0</td>\n",
       "      <td>29.501781</td>\n",
       "      <td>16</td>\n",
       "      <td>206</td>\n",
       "    </tr>\n",
       "    <tr>\n",
       "      <th>29</th>\n",
       "      <td>18260</td>\n",
       "      <td>1271240</td>\n",
       "      <td>69.618839</td>\n",
       "      <td>67.0</td>\n",
       "      <td>23.635631</td>\n",
       "      <td>15</td>\n",
       "      <td>173</td>\n",
       "    </tr>\n",
       "    <tr>\n",
       "      <th>30</th>\n",
       "      <td>18260</td>\n",
       "      <td>736554</td>\n",
       "      <td>40.337021</td>\n",
       "      <td>39.0</td>\n",
       "      <td>14.363331</td>\n",
       "      <td>5</td>\n",
       "      <td>115</td>\n",
       "    </tr>\n",
       "    <tr>\n",
       "      <th>31</th>\n",
       "      <td>18260</td>\n",
       "      <td>1070845</td>\n",
       "      <td>58.644304</td>\n",
       "      <td>57.0</td>\n",
       "      <td>20.104705</td>\n",
       "      <td>10</td>\n",
       "      <td>159</td>\n",
       "    </tr>\n",
       "    <tr>\n",
       "      <th>32</th>\n",
       "      <td>18260</td>\n",
       "      <td>803107</td>\n",
       "      <td>43.981763</td>\n",
       "      <td>42.0</td>\n",
       "      <td>15.574556</td>\n",
       "      <td>5</td>\n",
       "      <td>119</td>\n",
       "    </tr>\n",
       "    <tr>\n",
       "      <th>33</th>\n",
       "      <td>18260</td>\n",
       "      <td>1270183</td>\n",
       "      <td>69.560953</td>\n",
       "      <td>67.0</td>\n",
       "      <td>23.718343</td>\n",
       "      <td>15</td>\n",
       "      <td>169</td>\n",
       "    </tr>\n",
       "    <tr>\n",
       "      <th>34</th>\n",
       "      <td>18260</td>\n",
       "      <td>469935</td>\n",
       "      <td>25.735761</td>\n",
       "      <td>25.0</td>\n",
       "      <td>9.617910</td>\n",
       "      <td>2</td>\n",
       "      <td>79</td>\n",
       "    </tr>\n",
       "    <tr>\n",
       "      <th>35</th>\n",
       "      <td>18260</td>\n",
       "      <td>1201541</td>\n",
       "      <td>65.801807</td>\n",
       "      <td>63.0</td>\n",
       "      <td>22.461990</td>\n",
       "      <td>12</td>\n",
       "      <td>168</td>\n",
       "    </tr>\n",
       "    <tr>\n",
       "      <th>36</th>\n",
       "      <td>18260</td>\n",
       "      <td>1406548</td>\n",
       "      <td>77.028916</td>\n",
       "      <td>74.0</td>\n",
       "      <td>26.067440</td>\n",
       "      <td>16</td>\n",
       "      <td>188</td>\n",
       "    </tr>\n",
       "    <tr>\n",
       "      <th>37</th>\n",
       "      <td>18260</td>\n",
       "      <td>534258</td>\n",
       "      <td>29.258379</td>\n",
       "      <td>28.0</td>\n",
       "      <td>10.771547</td>\n",
       "      <td>3</td>\n",
       "      <td>74</td>\n",
       "    </tr>\n",
       "    <tr>\n",
       "      <th>38</th>\n",
       "      <td>18260</td>\n",
       "      <td>1470330</td>\n",
       "      <td>80.521906</td>\n",
       "      <td>77.0</td>\n",
       "      <td>27.141799</td>\n",
       "      <td>15</td>\n",
       "      <td>188</td>\n",
       "    </tr>\n",
       "    <tr>\n",
       "      <th>39</th>\n",
       "      <td>18260</td>\n",
       "      <td>801311</td>\n",
       "      <td>43.883406</td>\n",
       "      <td>42.0</td>\n",
       "      <td>15.511550</td>\n",
       "      <td>7</td>\n",
       "      <td>112</td>\n",
       "    </tr>\n",
       "    <tr>\n",
       "      <th>40</th>\n",
       "      <td>18260</td>\n",
       "      <td>534094</td>\n",
       "      <td>29.249398</td>\n",
       "      <td>28.0</td>\n",
       "      <td>10.822959</td>\n",
       "      <td>3</td>\n",
       "      <td>74</td>\n",
       "    </tr>\n",
       "    <tr>\n",
       "      <th>41</th>\n",
       "      <td>18260</td>\n",
       "      <td>401759</td>\n",
       "      <td>22.002136</td>\n",
       "      <td>21.0</td>\n",
       "      <td>8.402470</td>\n",
       "      <td>2</td>\n",
       "      <td>60</td>\n",
       "    </tr>\n",
       "    <tr>\n",
       "      <th>42</th>\n",
       "      <td>18260</td>\n",
       "      <td>669925</td>\n",
       "      <td>36.688116</td>\n",
       "      <td>35.0</td>\n",
       "      <td>13.215112</td>\n",
       "      <td>5</td>\n",
       "      <td>96</td>\n",
       "    </tr>\n",
       "    <tr>\n",
       "      <th>43</th>\n",
       "      <td>18260</td>\n",
       "      <td>936635</td>\n",
       "      <td>51.294359</td>\n",
       "      <td>49.0</td>\n",
       "      <td>17.801008</td>\n",
       "      <td>9</td>\n",
       "      <td>126</td>\n",
       "    </tr>\n",
       "    <tr>\n",
       "      <th>44</th>\n",
       "      <td>18260</td>\n",
       "      <td>536811</td>\n",
       "      <td>29.398193</td>\n",
       "      <td>28.0</td>\n",
       "      <td>10.797738</td>\n",
       "      <td>3</td>\n",
       "      <td>78</td>\n",
       "    </tr>\n",
       "    <tr>\n",
       "      <th>45</th>\n",
       "      <td>18260</td>\n",
       "      <td>1471467</td>\n",
       "      <td>80.584173</td>\n",
       "      <td>78.0</td>\n",
       "      <td>27.318402</td>\n",
       "      <td>18</td>\n",
       "      <td>205</td>\n",
       "    </tr>\n",
       "    <tr>\n",
       "      <th>46</th>\n",
       "      <td>18260</td>\n",
       "      <td>1070764</td>\n",
       "      <td>58.639869</td>\n",
       "      <td>56.0</td>\n",
       "      <td>20.220879</td>\n",
       "      <td>11</td>\n",
       "      <td>150</td>\n",
       "    </tr>\n",
       "    <tr>\n",
       "      <th>47</th>\n",
       "      <td>18260</td>\n",
       "      <td>401781</td>\n",
       "      <td>22.003341</td>\n",
       "      <td>21.0</td>\n",
       "      <td>8.420102</td>\n",
       "      <td>2</td>\n",
       "      <td>61</td>\n",
       "    </tr>\n",
       "    <tr>\n",
       "      <th>48</th>\n",
       "      <td>18260</td>\n",
       "      <td>937703</td>\n",
       "      <td>51.352848</td>\n",
       "      <td>49.0</td>\n",
       "      <td>17.881917</td>\n",
       "      <td>8</td>\n",
       "      <td>130</td>\n",
       "    </tr>\n",
       "    <tr>\n",
       "      <th>49</th>\n",
       "      <td>18260</td>\n",
       "      <td>535663</td>\n",
       "      <td>29.335323</td>\n",
       "      <td>28.0</td>\n",
       "      <td>10.874788</td>\n",
       "      <td>3</td>\n",
       "      <td>77</td>\n",
       "    </tr>\n",
       "    <tr>\n",
       "      <th>50</th>\n",
       "      <td>18260</td>\n",
       "      <td>1203009</td>\n",
       "      <td>65.882202</td>\n",
       "      <td>63.0</td>\n",
       "      <td>22.416031</td>\n",
       "      <td>12</td>\n",
       "      <td>164</td>\n",
       "    </tr>\n",
       "  </tbody>\n",
       "</table>\n",
       "</div>"
      ],
      "text/plain": [
       "      sales                                               \n",
       "      count      sum       mean median        std min  max\n",
       "item                                                      \n",
       "1     18260   401384  21.981599   21.0   8.468922   1   59\n",
       "2     18260  1069564  58.574151   56.0  20.093015   9  150\n",
       "3     18260   669087  36.642223   35.0  13.179441   7  104\n",
       "4     18260   401907  22.010241   21.0   8.403898   0   66\n",
       "5     18260   335230  18.358708   18.0   7.265167   1   50\n",
       "6     18260  1068281  58.503888   56.0  20.174898  11  148\n",
       "7     18260  1068777  58.531051   56.0  20.146002  11  141\n",
       "8     18260  1405108  76.950055   74.0  26.130697  15  181\n",
       "9     18260   938379  51.389869   49.5  17.790158   6  134\n",
       "10    18260  1337133  73.227437   70.0  24.823725  14  175\n",
       "11    18260  1271925  69.656353   67.0  23.744732  11  170\n",
       "12    18260  1271534  69.634940   67.0  23.738663  12  170\n",
       "13    18260  1539621  84.316594   81.0  28.311031  20  210\n",
       "14    18260  1071531  58.681873   56.0  20.079860  12  152\n",
       "15    18260  1607442  88.030778   85.0  29.522852  17  231\n",
       "16    18260   468480  25.656079   25.0   9.603270   2   70\n",
       "17    18260   602486  32.994852   32.0  11.967610   4   83\n",
       "18    18260  1538876  84.275794   81.0  28.430621  18  208\n",
       "19    18260   736892  40.355531   39.0  14.332645   5   99\n",
       "20    18260   867641  47.515936   46.0  16.490487   9  127\n",
       "21    18260   736190  40.317087   39.0  14.338006   7  109\n",
       "22    18260  1469971  80.502245   78.0  27.118163  14  214\n",
       "23    18260   534979  29.297864   28.0  10.819549   3   81\n",
       "24    18260  1205975  66.044633   64.0  22.531555  14  156\n",
       "25    18260  1473334  80.686418   78.0  27.238817  18  193\n",
       "26    18260   869981  47.644085   46.0  16.723912   8  119\n",
       "27    18260   402628  22.049726   21.0   8.461641   1   59\n",
       "28    18260  1604713  87.881325   85.0  29.501781  16  206\n",
       "29    18260  1271240  69.618839   67.0  23.635631  15  173\n",
       "30    18260   736554  40.337021   39.0  14.363331   5  115\n",
       "31    18260  1070845  58.644304   57.0  20.104705  10  159\n",
       "32    18260   803107  43.981763   42.0  15.574556   5  119\n",
       "33    18260  1270183  69.560953   67.0  23.718343  15  169\n",
       "34    18260   469935  25.735761   25.0   9.617910   2   79\n",
       "35    18260  1201541  65.801807   63.0  22.461990  12  168\n",
       "36    18260  1406548  77.028916   74.0  26.067440  16  188\n",
       "37    18260   534258  29.258379   28.0  10.771547   3   74\n",
       "38    18260  1470330  80.521906   77.0  27.141799  15  188\n",
       "39    18260   801311  43.883406   42.0  15.511550   7  112\n",
       "40    18260   534094  29.249398   28.0  10.822959   3   74\n",
       "41    18260   401759  22.002136   21.0   8.402470   2   60\n",
       "42    18260   669925  36.688116   35.0  13.215112   5   96\n",
       "43    18260   936635  51.294359   49.0  17.801008   9  126\n",
       "44    18260   536811  29.398193   28.0  10.797738   3   78\n",
       "45    18260  1471467  80.584173   78.0  27.318402  18  205\n",
       "46    18260  1070764  58.639869   56.0  20.220879  11  150\n",
       "47    18260   401781  22.003341   21.0   8.420102   2   61\n",
       "48    18260   937703  51.352848   49.0  17.881917   8  130\n",
       "49    18260   535663  29.335323   28.0  10.874788   3   77\n",
       "50    18260  1203009  65.882202   63.0  22.416031  12  164"
      ]
     },
     "execution_count": 16,
     "metadata": {},
     "output_type": "execute_result"
    }
   ],
   "source": [
    "# Summary Stats for each item\n",
    "train_data.groupby([\"item\"]).agg({\"sales\": [\"count\",\"sum\", \"mean\", \"median\", \"std\", \"min\", \"max\"]})"
   ]
  },
  {
   "cell_type": "code",
   "execution_count": 17,
   "id": "fef6d070",
   "metadata": {},
   "outputs": [
    {
     "name": "stdout",
     "output_type": "stream",
     "text": [
      "<class 'pandas.core.frame.DataFrame'>\n",
      "RangeIndex: 913000 entries, 0 to 912999\n",
      "Data columns (total 4 columns):\n",
      " #   Column  Non-Null Count   Dtype \n",
      "---  ------  --------------   ----- \n",
      " 0   date    913000 non-null  object\n",
      " 1   store   913000 non-null  int64 \n",
      " 2   item    913000 non-null  int64 \n",
      " 3   sales   913000 non-null  int64 \n",
      "dtypes: int64(3), object(1)\n",
      "memory usage: 27.9+ MB\n"
     ]
    }
   ],
   "source": [
    "train_data.info()"
   ]
  },
  {
   "cell_type": "code",
   "execution_count": 18,
   "id": "36fbd5b5",
   "metadata": {},
   "outputs": [
    {
     "name": "stdout",
     "output_type": "stream",
     "text": [
      "<class 'pandas.core.frame.DataFrame'>\n",
      "RangeIndex: 45000 entries, 0 to 44999\n",
      "Data columns (total 4 columns):\n",
      " #   Column  Non-Null Count  Dtype \n",
      "---  ------  --------------  ----- \n",
      " 0   id      45000 non-null  int64 \n",
      " 1   date    45000 non-null  object\n",
      " 2   store   45000 non-null  int64 \n",
      " 3   item    45000 non-null  int64 \n",
      "dtypes: int64(3), object(1)\n",
      "memory usage: 1.4+ MB\n"
     ]
    }
   ],
   "source": [
    "test_data.info()"
   ]
  },
  {
   "cell_type": "markdown",
   "id": "14db7d0f",
   "metadata": {},
   "source": [
    "Dimension of the dataset"
   ]
  },
  {
   "cell_type": "code",
   "execution_count": 20,
   "id": "bfbb080b",
   "metadata": {},
   "outputs": [
    {
     "data": {
      "text/plain": [
       "(913000, 4)"
      ]
     },
     "execution_count": 20,
     "metadata": {},
     "output_type": "execute_result"
    }
   ],
   "source": [
    "train_data.shape"
   ]
  },
  {
   "cell_type": "code",
   "execution_count": 21,
   "id": "cf7f42eb",
   "metadata": {},
   "outputs": [
    {
     "data": {
      "text/plain": [
       "(45000, 4)"
      ]
     },
     "execution_count": 21,
     "metadata": {},
     "output_type": "execute_result"
    }
   ],
   "source": [
    "test_data.shape"
   ]
  },
  {
   "cell_type": "code",
   "execution_count": 22,
   "id": "67a983bb",
   "metadata": {},
   "outputs": [],
   "source": [
    "#The above dataset satisfies the condition given regarding data set dimensions"
   ]
  },
  {
   "cell_type": "markdown",
   "id": "6826b4f6",
   "metadata": {},
   "source": [
    "Datatypes of the columns"
   ]
  },
  {
   "cell_type": "code",
   "execution_count": 23,
   "id": "4db9e650",
   "metadata": {},
   "outputs": [
    {
     "data": {
      "text/plain": [
       "date     object\n",
       "store     int64\n",
       "item      int64\n",
       "sales     int64\n",
       "dtype: object"
      ]
     },
     "execution_count": 23,
     "metadata": {},
     "output_type": "execute_result"
    }
   ],
   "source": [
    "train_data.dtypes"
   ]
  },
  {
   "cell_type": "code",
   "execution_count": 24,
   "id": "2ede9fcb",
   "metadata": {},
   "outputs": [
    {
     "data": {
      "text/plain": [
       "id        int64\n",
       "date     object\n",
       "store     int64\n",
       "item      int64\n",
       "dtype: object"
      ]
     },
     "execution_count": 24,
     "metadata": {},
     "output_type": "execute_result"
    }
   ],
   "source": [
    "test_data.dtypes"
   ]
  },
  {
   "cell_type": "code",
   "execution_count": 25,
   "id": "2f1e74ab",
   "metadata": {},
   "outputs": [
    {
     "data": {
      "text/plain": [
       "int64     3\n",
       "object    1\n",
       "dtype: int64"
      ]
     },
     "execution_count": 25,
     "metadata": {},
     "output_type": "execute_result"
    }
   ],
   "source": [
    "train_data.dtypes.value_counts()"
   ]
  },
  {
   "cell_type": "code",
   "execution_count": 26,
   "id": "68ce7c83",
   "metadata": {},
   "outputs": [
    {
     "data": {
      "text/plain": [
       "int64     3\n",
       "object    1\n",
       "dtype: int64"
      ]
     },
     "execution_count": 26,
     "metadata": {},
     "output_type": "execute_result"
    }
   ],
   "source": [
    "test_data.dtypes.value_counts()"
   ]
  },
  {
   "cell_type": "code",
   "execution_count": 27,
   "id": "9b8a19b9",
   "metadata": {},
   "outputs": [],
   "source": [
    "#Here we can see that there are 4 numerical variables in both train and test dataset."
   ]
  },
  {
   "cell_type": "code",
   "execution_count": 28,
   "id": "c821ba14",
   "metadata": {},
   "outputs": [
    {
     "data": {
      "text/plain": [
       "Index(['date', 'store', 'item', 'sales'], dtype='object')"
      ]
     },
     "execution_count": 28,
     "metadata": {},
     "output_type": "execute_result"
    }
   ],
   "source": [
    "train_data.columns"
   ]
  },
  {
   "cell_type": "code",
   "execution_count": 29,
   "id": "b5a4aed8",
   "metadata": {},
   "outputs": [
    {
     "data": {
      "text/plain": [
       "Index(['id', 'date', 'store', 'item'], dtype='object')"
      ]
     },
     "execution_count": 29,
     "metadata": {},
     "output_type": "execute_result"
    }
   ],
   "source": [
    "test_data.columns"
   ]
  },
  {
   "cell_type": "code",
   "execution_count": 30,
   "id": "8fb0a929",
   "metadata": {},
   "outputs": [
    {
     "data": {
      "text/plain": [
       "date     0\n",
       "store    0\n",
       "item     0\n",
       "sales    0\n",
       "dtype: int64"
      ]
     },
     "execution_count": 30,
     "metadata": {},
     "output_type": "execute_result"
    }
   ],
   "source": [
    "train_data.isna().sum()"
   ]
  },
  {
   "cell_type": "code",
   "execution_count": 31,
   "id": "5d43dc3f",
   "metadata": {},
   "outputs": [
    {
     "data": {
      "text/plain": [
       "id       0\n",
       "date     0\n",
       "store    0\n",
       "item     0\n",
       "dtype: int64"
      ]
     },
     "execution_count": 31,
     "metadata": {},
     "output_type": "execute_result"
    }
   ],
   "source": [
    "test_data.isna().sum()"
   ]
  },
  {
   "cell_type": "code",
   "execution_count": 32,
   "id": "248fee12",
   "metadata": {},
   "outputs": [
    {
     "data": {
      "text/plain": [
       "date     1826\n",
       "store      10\n",
       "item       50\n",
       "sales     213\n",
       "dtype: int64"
      ]
     },
     "execution_count": 32,
     "metadata": {},
     "output_type": "execute_result"
    }
   ],
   "source": [
    "train_data.apply(lambda x:len(x.unique()))"
   ]
  },
  {
   "cell_type": "code",
   "execution_count": 33,
   "id": "0b686935",
   "metadata": {},
   "outputs": [
    {
     "data": {
      "text/plain": [
       "id       45000\n",
       "date        90\n",
       "store       10\n",
       "item        50\n",
       "dtype: int64"
      ]
     },
     "execution_count": 33,
     "metadata": {},
     "output_type": "execute_result"
    }
   ],
   "source": [
    "test_data.apply(lambda x:len(x.unique()))"
   ]
  },
  {
   "cell_type": "markdown",
   "id": "27445c1b",
   "metadata": {},
   "source": [
    "Check for duplicate values in datase"
   ]
  },
  {
   "cell_type": "code",
   "execution_count": 34,
   "id": "c873cb27",
   "metadata": {},
   "outputs": [
    {
     "data": {
      "text/plain": [
       "(0, 4)"
      ]
     },
     "execution_count": 34,
     "metadata": {},
     "output_type": "execute_result"
    }
   ],
   "source": [
    "duplicate=train_data[train_data.duplicated()]\n",
    "duplicate.shape"
   ]
  },
  {
   "cell_type": "code",
   "execution_count": 35,
   "id": "19a4a398",
   "metadata": {},
   "outputs": [
    {
     "data": {
      "text/plain": [
       "(0, 4)"
      ]
     },
     "execution_count": 35,
     "metadata": {},
     "output_type": "execute_result"
    }
   ],
   "source": [
    "duplicate=test_data[test_data.duplicated()]\n",
    "duplicate.shape"
   ]
  },
  {
   "cell_type": "code",
   "execution_count": 36,
   "id": "6161152d",
   "metadata": {},
   "outputs": [],
   "source": [
    "#There are no duplicate rows in both test and train dataset"
   ]
  },
  {
   "cell_type": "markdown",
   "id": "7eb6cd7a",
   "metadata": {},
   "source": [
    "# Exploratory Data Analysis"
   ]
  },
  {
   "cell_type": "markdown",
   "id": "cfb031ae",
   "metadata": {},
   "source": [
    "Univariate analysis and Bivariate analysis We will do the univariate analysis of each column feature and also the bivariate analysis of each column feature with the target"
   ]
  },
  {
   "cell_type": "markdown",
   "id": "c863533e",
   "metadata": {},
   "source": [
    "Basic summary of the dataset"
   ]
  },
  {
   "cell_type": "code",
   "execution_count": 37,
   "id": "1fb5c4f9",
   "metadata": {},
   "outputs": [
    {
     "data": {
      "image/png": "[encoded data removed]",
      "text/plain": [
       "<Figure size 720x720 with 4 Axes>"
      ]
     },
     "metadata": {
      "needs_background": "light"
     },
     "output_type": "display_data"
    }
   ],
   "source": [
    "train_data.hist(figsize=(10,10))\n",
    "plt.suptitle('Distribution of Features')\n",
    "plt.show()"
   ]
  },
  {
   "cell_type": "code",
   "execution_count": 38,
   "id": "1c6f5ea5",
   "metadata": {},
   "outputs": [
    {
     "data": {
      "image/png": "[encoded data removed]",
      "text/plain": [
       "<Figure size 720x720 with 4 Axes>"
      ]
     },
     "metadata": {
      "needs_background": "light"
     },
     "output_type": "display_data"
    }
   ],
   "source": [
    "test_data.hist(figsize=(10,10))\n",
    "plt.suptitle('Distribution of Features')\n",
    "plt.show()"
   ]
  },
  {
   "cell_type": "code",
   "execution_count": 39,
   "id": "61941f5f",
   "metadata": {},
   "outputs": [],
   "source": [
    "#Above is a basic summary of the data set\n",
    "#Now we will do the visual analysis of each of the features"
   ]
  },
  {
   "cell_type": "code",
   "execution_count": 40,
   "id": "445be15b",
   "metadata": {},
   "outputs": [
    {
     "name": "stderr",
     "output_type": "stream",
     "text": [
      "C:\\Users\\AYISHA M\\Anaconda3\\lib\\site-packages\\seaborn\\distributions.py:2619: FutureWarning: `distplot` is a deprecated function and will be removed in a future version. Please adapt your code to use either `displot` (a figure-level function with similar flexibility) or `histplot` (an axes-level function for histograms).\n",
      "  warnings.warn(msg, FutureWarning)\n"
     ]
    },
    {
     "data": {
      "image/png": "[encoded data removed]",
      "text/plain": [
       "<Figure size 432x288 with 1 Axes>"
      ]
     },
     "metadata": {
      "needs_background": "light"
     },
     "output_type": "display_data"
    }
   ],
   "source": [
    "sns.distplot(train_data['sales'])\n",
    "plt.title('Dist plot of sales',fontweight=\"bold\")\n",
    "plt.grid()"
   ]
  },
  {
   "cell_type": "code",
   "execution_count": 41,
   "id": "030cc382",
   "metadata": {},
   "outputs": [],
   "source": [
    "#Maximum number of items sold at a particular store on a particular date is above 200"
   ]
  },
  {
   "cell_type": "markdown",
   "id": "579387f3",
   "metadata": {},
   "source": [
    "Pie chart of sales with respect to store"
   ]
  },
  {
   "cell_type": "code",
   "execution_count": 42,
   "id": "a5922146",
   "metadata": {},
   "outputs": [
    {
     "data": {
      "image/png": "[encoded data removed]",
      "text/plain": [
       "<Figure size 432x288 with 1 Axes>"
      ]
     },
     "metadata": {},
     "output_type": "display_data"
    }
   ],
   "source": [
    "train_data.groupby(['store']).sum().plot(kind='pie',y='sales',autopct='%1.0f%%',title='Pie chart of {} with respect to {}'.format('sales','store')) \n",
    "plt.show() "
   ]
  },
  {
   "cell_type": "code",
   "execution_count": 43,
   "id": "ead0f174",
   "metadata": {},
   "outputs": [],
   "source": [
    "#Store 2 has maximum sale of 13% compared to other stores"
   ]
  },
  {
   "cell_type": "markdown",
   "id": "c2441f3c",
   "metadata": {},
   "source": [
    "Plot the features with respect to store."
   ]
  },
  {
   "cell_type": "code",
   "execution_count": 46,
   "id": "3cf79cb2",
   "metadata": {},
   "outputs": [
    {
     "data": {
      "image/png": "[encoded data removed]",
      "text/plain": [
       "<Figure size 864x432 with 2 Axes>"
      ]
     },
     "metadata": {
      "needs_background": "light"
     },
     "output_type": "display_data"
    }
   ],
   "source": [
    "c=[ 'item', 'sales']\n",
    "fig, ax = plt.subplots(1, 2, figsize=(12,6))\n",
    "\n",
    "for i, subplot in zip(c,ax.flatten()):\n",
    "    sns.barplot(x=train_data['store'], y= train_data[i], ax=subplot)\n",
    "    plt.grid()\n",
    "plt.tight_layout()"
   ]
  },
  {
   "cell_type": "code",
   "execution_count": 47,
   "id": "7c4e0ef3",
   "metadata": {},
   "outputs": [
    {
     "data": {
      "image/png": "[encoded data removed]",
      "text/plain": [
       "<Figure size 864x432 with 2 Axes>"
      ]
     },
     "metadata": {
      "needs_background": "light"
     },
     "output_type": "display_data"
    }
   ],
   "source": [
    "c=[ 'item', 'sales']\n",
    "fig, ax = plt.subplots(1, 2, figsize=(12,6))\n",
    "\n",
    "for i, subplot in zip(c,ax.flatten()):\n",
    "    sns.barplot(x=test_data['store'], y= train_data[i], ax=subplot)\n",
    "    plt.grid()\n",
    "plt.tight_layout()"
   ]
  },
  {
   "cell_type": "code",
   "execution_count": 48,
   "id": "9739fd6d",
   "metadata": {},
   "outputs": [
    {
     "data": {
      "image/png": "[encoded data removed]",
      "text/plain": [
       "<Figure size 720x360 with 1 Axes>"
      ]
     },
     "metadata": {
      "needs_background": "light"
     },
     "output_type": "display_data"
    }
   ],
   "source": [
    "plt.figure(figsize=(10,5))\n",
    "sns.lineplot(data=train_data,x='store',y='sales')\n",
    "plt.title('store vs sales',fontweight=\"bold\")\n",
    "plt.grid()"
   ]
  },
  {
   "cell_type": "code",
   "execution_count": 49,
   "id": "d3fef621",
   "metadata": {},
   "outputs": [],
   "source": [
    "#From the visualization, it is clear that the stores with ID 2 and 8 have higher average sales than the remaining stores and is a clear indication that they are doing good money!\n",
    "#Whereas store with ID 7 has very poor performance in terms of average sales."
   ]
  },
  {
   "cell_type": "code",
   "execution_count": 50,
   "id": "ebff58d1",
   "metadata": {},
   "outputs": [
    {
     "data": {
      "image/png": "[encoded data removed]",
      "text/plain": [
       "<Figure size 720x360 with 1 Axes>"
      ]
     },
     "metadata": {
      "needs_background": "light"
     },
     "output_type": "display_data"
    }
   ],
   "source": [
    "plt.figure(figsize=(10,5))\n",
    "sns.lineplot(data=train_data,x='item',y='sales')\n",
    "plt.title('item vs sales',fontweight=\"bold\")\n",
    "plt.grid()"
   ]
  },
  {
   "cell_type": "code",
   "execution_count": 51,
   "id": "5d731317",
   "metadata": {},
   "outputs": [],
   "source": [
    "#Top items with highest average sale are 15, 28, 13, 18 and with least average sales are 5, 1, 41 and so on."
   ]
  },
  {
   "cell_type": "markdown",
   "id": "07412c2f",
   "metadata": {},
   "source": [
    "# Pre processing"
   ]
  },
  {
   "cell_type": "markdown",
   "id": "95d1e10b",
   "metadata": {},
   "source": [
    "1.Missing value handling"
   ]
  },
  {
   "cell_type": "code",
   "execution_count": 52,
   "id": "8a324c62",
   "metadata": {},
   "outputs": [
    {
     "data": {
      "text/html": [
       "<style type=\"text/css\">\n",
       "#T_1e958_row0_col0, #T_1e958_row1_col0, #T_1e958_row2_col0, #T_1e958_row3_col0 {\n",
       "  width: 10em;\n",
       "  height: 80%;\n",
       "}\n",
       "</style>\n",
       "<table id=\"T_1e958_\">\n",
       "  <thead>\n",
       "    <tr>\n",
       "      <th class=\"blank level0\" >&nbsp;</th>\n",
       "      <th class=\"col_heading level0 col0\" >0</th>\n",
       "    </tr>\n",
       "  </thead>\n",
       "  <tbody>\n",
       "    <tr>\n",
       "      <th id=\"T_1e958_level0_row0\" class=\"row_heading level0 row0\" >date</th>\n",
       "      <td id=\"T_1e958_row0_col0\" class=\"data row0 col0\" >0</td>\n",
       "    </tr>\n",
       "    <tr>\n",
       "      <th id=\"T_1e958_level0_row1\" class=\"row_heading level0 row1\" >store</th>\n",
       "      <td id=\"T_1e958_row1_col0\" class=\"data row1 col0\" >0</td>\n",
       "    </tr>\n",
       "    <tr>\n",
       "      <th id=\"T_1e958_level0_row2\" class=\"row_heading level0 row2\" >item</th>\n",
       "      <td id=\"T_1e958_row2_col0\" class=\"data row2 col0\" >0</td>\n",
       "    </tr>\n",
       "    <tr>\n",
       "      <th id=\"T_1e958_level0_row3\" class=\"row_heading level0 row3\" >sales</th>\n",
       "      <td id=\"T_1e958_row3_col0\" class=\"data row3 col0\" >0</td>\n",
       "    </tr>\n",
       "  </tbody>\n",
       "</table>\n"
      ],
      "text/plain": [
       "<pandas.io.formats.style.Styler at 0x2a04dbd5b50>"
      ]
     },
     "execution_count": 52,
     "metadata": {},
     "output_type": "execute_result"
    }
   ],
   "source": [
    "train_data.isnull().sum().to_frame().style.bar(color=\"red\")"
   ]
  },
  {
   "cell_type": "code",
   "execution_count": 53,
   "id": "fb69bf3b",
   "metadata": {},
   "outputs": [
    {
     "data": {
      "text/html": [
       "<style type=\"text/css\">\n",
       "#T_b3ea2_row0_col0, #T_b3ea2_row1_col0, #T_b3ea2_row2_col0, #T_b3ea2_row3_col0 {\n",
       "  width: 10em;\n",
       "  height: 80%;\n",
       "}\n",
       "</style>\n",
       "<table id=\"T_b3ea2_\">\n",
       "  <thead>\n",
       "    <tr>\n",
       "      <th class=\"blank level0\" >&nbsp;</th>\n",
       "      <th class=\"col_heading level0 col0\" >0</th>\n",
       "    </tr>\n",
       "  </thead>\n",
       "  <tbody>\n",
       "    <tr>\n",
       "      <th id=\"T_b3ea2_level0_row0\" class=\"row_heading level0 row0\" >id</th>\n",
       "      <td id=\"T_b3ea2_row0_col0\" class=\"data row0 col0\" >0</td>\n",
       "    </tr>\n",
       "    <tr>\n",
       "      <th id=\"T_b3ea2_level0_row1\" class=\"row_heading level0 row1\" >date</th>\n",
       "      <td id=\"T_b3ea2_row1_col0\" class=\"data row1 col0\" >0</td>\n",
       "    </tr>\n",
       "    <tr>\n",
       "      <th id=\"T_b3ea2_level0_row2\" class=\"row_heading level0 row2\" >store</th>\n",
       "      <td id=\"T_b3ea2_row2_col0\" class=\"data row2 col0\" >0</td>\n",
       "    </tr>\n",
       "    <tr>\n",
       "      <th id=\"T_b3ea2_level0_row3\" class=\"row_heading level0 row3\" >item</th>\n",
       "      <td id=\"T_b3ea2_row3_col0\" class=\"data row3 col0\" >0</td>\n",
       "    </tr>\n",
       "  </tbody>\n",
       "</table>\n"
      ],
      "text/plain": [
       "<pandas.io.formats.style.Styler at 0x2a04ec5bb80>"
      ]
     },
     "execution_count": 53,
     "metadata": {},
     "output_type": "execute_result"
    }
   ],
   "source": [
    "test_data.isnull().sum().to_frame().style.bar(color=\"red\")"
   ]
  },
  {
   "cell_type": "code",
   "execution_count": 54,
   "id": "e40cb90b",
   "metadata": {},
   "outputs": [],
   "source": [
    "#Since there is no values are missing in both test and train dataset there is no need of handling the missing values.\n",
    "#The dataset is free from null values. "
   ]
  },
  {
   "cell_type": "code",
   "execution_count": 55,
   "id": "c0cdf9bc",
   "metadata": {},
   "outputs": [],
   "source": [
    "import warnings\n",
    "warnings.filterwarnings('ignore')"
   ]
  },
  {
   "cell_type": "markdown",
   "id": "df1fcebd",
   "metadata": {},
   "source": [
    "2.Outlier detection"
   ]
  },
  {
   "cell_type": "code",
   "execution_count": 56,
   "id": "bb92cd18",
   "metadata": {},
   "outputs": [
    {
     "data": {
      "image/png": "[encoded data removed]",
      "text/plain": [
       "<Figure size 1440x1440 with 30 Axes>"
      ]
     },
     "metadata": {
      "needs_background": "light"
     },
     "output_type": "display_data"
    }
   ],
   "source": [
    "train_data.plot(kind=\"box\",subplots=True,layout=(6,5),figsize=(20,20))\n",
    "plt.show()"
   ]
  },
  {
   "cell_type": "code",
   "execution_count": 57,
   "id": "1b59c1e9",
   "metadata": {},
   "outputs": [
    {
     "data": {
      "image/png": "[encoded data removed]",
      "text/plain": [
       "<Figure size 720x216 with 1 Axes>"
      ]
     },
     "metadata": {
      "needs_background": "light"
     },
     "output_type": "display_data"
    }
   ],
   "source": [
    "plt.figure(figsize=(10,3))\n",
    "sns.boxplot(train_data['sales'])\n",
    "plt.title('Sales')\n",
    "plt.show()"
   ]
  },
  {
   "cell_type": "code",
   "execution_count": 58,
   "id": "b765bbec",
   "metadata": {},
   "outputs": [
    {
     "name": "stdout",
     "output_type": "stream",
     "text": [
      "\u001b[1;4m Sales \u001b[0m\n",
      "Q1: 30.0\n",
      "Q2: 47.0\n",
      "Q3: 70.0\n",
      "IQR: 40.0\n",
      "lower limit: -30.0\n",
      "upper limit: 130.0\n"
     ]
    }
   ],
   "source": [
    "q1=np.percentile(train_data['sales'],25,interpolation='midpoint')\n",
    "q2=np.percentile(train_data['sales'],50,interpolation='midpoint')\n",
    "q3=np.percentile(train_data['sales'],75,interpolation='midpoint')\n",
    "iqr=q3-q1\n",
    "up_lim=q3+1.5*iqr\n",
    "low_lim=q1-1.5*iqr\n",
    "print('\\033[1;4m','Sales','\\033[0m')\n",
    "print('Q1:',q1)\n",
    "print('Q2:',q2)\n",
    "print('Q3:',q3)\n",
    "print('IQR:',iqr)\n",
    "print('lower limit:',low_lim)\n",
    "print('upper limit:',up_lim)\n",
    "outlier=[]\n",
    "for x in train_data['sales']:\n",
    "    if ((x<low_lim) or (x>up_lim)):\n",
    "        outlier.append(x)\n",
    "    \n",
    "train_data['sales']=np.where(train_data['sales']<low_lim,low_lim,np.where(train_data['sales']>up_lim,up_lim,train_data['sales']))\n",
    "    \n",
    "        "
   ]
  },
  {
   "cell_type": "code",
   "execution_count": 59,
   "id": "977b0123",
   "metadata": {},
   "outputs": [
    {
     "data": {
      "image/png": "[encoded data removed]",
      "text/plain": [
       "<Figure size 720x216 with 1 Axes>"
      ]
     },
     "metadata": {
      "needs_background": "light"
     },
     "output_type": "display_data"
    }
   ],
   "source": [
    "plt.figure(figsize=(10,3))\n",
    "sns.boxplot(train_data['sales'])\n",
    "plt.title('Sales')\n",
    "plt.show()"
   ]
  },
  {
   "cell_type": "code",
   "execution_count": 61,
   "id": "2af75d0e",
   "metadata": {},
   "outputs": [],
   "source": [
    "#We can see that the outliers have been handled and have been set to the maximum value."
   ]
  },
  {
   "cell_type": "code",
   "execution_count": 62,
   "id": "97fab507",
   "metadata": {},
   "outputs": [
    {
     "data": {
      "image/png": "[encoded data removed]",
      "text/plain": [
       "<Figure size 1440x1440 with 30 Axes>"
      ]
     },
     "metadata": {
      "needs_background": "light"
     },
     "output_type": "display_data"
    }
   ],
   "source": [
    "test_data.plot(kind=\"box\",subplots=True,layout=(6,5),figsize=(20,20))\n",
    "plt.show()"
   ]
  },
  {
   "cell_type": "code",
   "execution_count": 63,
   "id": "c61d61e4",
   "metadata": {},
   "outputs": [],
   "source": [
    "#It shows that there is no outliers in test dataset.\n",
    "#Hence the outliers have been handled in both test and train dataset."
   ]
  },
  {
   "cell_type": "code",
   "execution_count": 60,
   "id": "43162cfb",
   "metadata": {},
   "outputs": [
    {
     "name": "stdout",
     "output_type": "stream",
     "text": [
      "<class 'pandas.core.frame.DataFrame'>\n",
      "RangeIndex: 913000 entries, 0 to 912999\n",
      "Data columns (total 4 columns):\n",
      " #   Column  Non-Null Count   Dtype  \n",
      "---  ------  --------------   -----  \n",
      " 0   date    913000 non-null  object \n",
      " 1   store   913000 non-null  int64  \n",
      " 2   item    913000 non-null  int64  \n",
      " 3   sales   913000 non-null  float64\n",
      "dtypes: float64(1), int64(2), object(1)\n",
      "memory usage: 27.9+ MB\n"
     ]
    }
   ],
   "source": [
    "train_data.info()"
   ]
  },
  {
   "cell_type": "markdown",
   "id": "f73102fb",
   "metadata": {},
   "source": [
    "3.Feature reduction"
   ]
  },
  {
   "cell_type": "code",
   "execution_count": 64,
   "id": "39250247",
   "metadata": {},
   "outputs": [],
   "source": [
    "# to time series"
   ]
  },
  {
   "cell_type": "code",
   "execution_count": 65,
   "id": "54194bc3",
   "metadata": {},
   "outputs": [
    {
     "data": {
      "text/html": [
       "<div>\n",
       "<style scoped>\n",
       "    .dataframe tbody tr th:only-of-type {\n",
       "        vertical-align: middle;\n",
       "    }\n",
       "\n",
       "    .dataframe tbody tr th {\n",
       "        vertical-align: top;\n",
       "    }\n",
       "\n",
       "    .dataframe thead th {\n",
       "        text-align: right;\n",
       "    }\n",
       "</style>\n",
       "<table border=\"1\" class=\"dataframe\">\n",
       "  <thead>\n",
       "    <tr style=\"text-align: right;\">\n",
       "      <th></th>\n",
       "      <th>date</th>\n",
       "      <th>store</th>\n",
       "      <th>item</th>\n",
       "      <th>sales</th>\n",
       "      <th>year</th>\n",
       "      <th>month</th>\n",
       "      <th>day</th>\n",
       "      <th>weekday</th>\n",
       "    </tr>\n",
       "  </thead>\n",
       "  <tbody>\n",
       "    <tr>\n",
       "      <th>0</th>\n",
       "      <td>2013-01-01</td>\n",
       "      <td>1</td>\n",
       "      <td>1</td>\n",
       "      <td>13.0</td>\n",
       "      <td>2013</td>\n",
       "      <td>1</td>\n",
       "      <td>1</td>\n",
       "      <td>1</td>\n",
       "    </tr>\n",
       "    <tr>\n",
       "      <th>1</th>\n",
       "      <td>2013-01-02</td>\n",
       "      <td>1</td>\n",
       "      <td>1</td>\n",
       "      <td>11.0</td>\n",
       "      <td>2013</td>\n",
       "      <td>1</td>\n",
       "      <td>2</td>\n",
       "      <td>2</td>\n",
       "    </tr>\n",
       "    <tr>\n",
       "      <th>2</th>\n",
       "      <td>2013-01-03</td>\n",
       "      <td>1</td>\n",
       "      <td>1</td>\n",
       "      <td>14.0</td>\n",
       "      <td>2013</td>\n",
       "      <td>1</td>\n",
       "      <td>3</td>\n",
       "      <td>3</td>\n",
       "    </tr>\n",
       "    <tr>\n",
       "      <th>3</th>\n",
       "      <td>2013-01-04</td>\n",
       "      <td>1</td>\n",
       "      <td>1</td>\n",
       "      <td>13.0</td>\n",
       "      <td>2013</td>\n",
       "      <td>1</td>\n",
       "      <td>4</td>\n",
       "      <td>4</td>\n",
       "    </tr>\n",
       "    <tr>\n",
       "      <th>4</th>\n",
       "      <td>2013-01-05</td>\n",
       "      <td>1</td>\n",
       "      <td>1</td>\n",
       "      <td>10.0</td>\n",
       "      <td>2013</td>\n",
       "      <td>1</td>\n",
       "      <td>5</td>\n",
       "      <td>5</td>\n",
       "    </tr>\n",
       "    <tr>\n",
       "      <th>...</th>\n",
       "      <td>...</td>\n",
       "      <td>...</td>\n",
       "      <td>...</td>\n",
       "      <td>...</td>\n",
       "      <td>...</td>\n",
       "      <td>...</td>\n",
       "      <td>...</td>\n",
       "      <td>...</td>\n",
       "    </tr>\n",
       "    <tr>\n",
       "      <th>1821</th>\n",
       "      <td>2017-12-27</td>\n",
       "      <td>1</td>\n",
       "      <td>1</td>\n",
       "      <td>14.0</td>\n",
       "      <td>2017</td>\n",
       "      <td>12</td>\n",
       "      <td>361</td>\n",
       "      <td>2</td>\n",
       "    </tr>\n",
       "    <tr>\n",
       "      <th>1822</th>\n",
       "      <td>2017-12-28</td>\n",
       "      <td>1</td>\n",
       "      <td>1</td>\n",
       "      <td>19.0</td>\n",
       "      <td>2017</td>\n",
       "      <td>12</td>\n",
       "      <td>362</td>\n",
       "      <td>3</td>\n",
       "    </tr>\n",
       "    <tr>\n",
       "      <th>1823</th>\n",
       "      <td>2017-12-29</td>\n",
       "      <td>1</td>\n",
       "      <td>1</td>\n",
       "      <td>15.0</td>\n",
       "      <td>2017</td>\n",
       "      <td>12</td>\n",
       "      <td>363</td>\n",
       "      <td>4</td>\n",
       "    </tr>\n",
       "    <tr>\n",
       "      <th>1824</th>\n",
       "      <td>2017-12-30</td>\n",
       "      <td>1</td>\n",
       "      <td>1</td>\n",
       "      <td>27.0</td>\n",
       "      <td>2017</td>\n",
       "      <td>12</td>\n",
       "      <td>364</td>\n",
       "      <td>5</td>\n",
       "    </tr>\n",
       "    <tr>\n",
       "      <th>1825</th>\n",
       "      <td>2017-12-31</td>\n",
       "      <td>1</td>\n",
       "      <td>1</td>\n",
       "      <td>23.0</td>\n",
       "      <td>2017</td>\n",
       "      <td>12</td>\n",
       "      <td>365</td>\n",
       "      <td>6</td>\n",
       "    </tr>\n",
       "  </tbody>\n",
       "</table>\n",
       "<p>1826 rows × 8 columns</p>\n",
       "</div>"
      ],
      "text/plain": [
       "           date  store  item  sales  year  month  day  weekday\n",
       "0    2013-01-01      1     1   13.0  2013      1    1        1\n",
       "1    2013-01-02      1     1   11.0  2013      1    2        2\n",
       "2    2013-01-03      1     1   14.0  2013      1    3        3\n",
       "3    2013-01-04      1     1   13.0  2013      1    4        4\n",
       "4    2013-01-05      1     1   10.0  2013      1    5        5\n",
       "...         ...    ...   ...    ...   ...    ...  ...      ...\n",
       "1821 2017-12-27      1     1   14.0  2017     12  361        2\n",
       "1822 2017-12-28      1     1   19.0  2017     12  362        3\n",
       "1823 2017-12-29      1     1   15.0  2017     12  363        4\n",
       "1824 2017-12-30      1     1   27.0  2017     12  364        5\n",
       "1825 2017-12-31      1     1   23.0  2017     12  365        6\n",
       "\n",
       "[1826 rows x 8 columns]"
      ]
     },
     "execution_count": 65,
     "metadata": {},
     "output_type": "execute_result"
    }
   ],
   "source": [
    "train_data['date'] = pd.to_datetime(train_data['date'], format=\"%Y-%m-%d\")\n",
    "# per 1 store, 1 item\n",
    "train_df = train_data[train_data['store']==1]\n",
    "train_df = train_df[train_data['item']==1]\n",
    "train_df['year'] = train_data['date'].dt.year\n",
    "train_df['month'] = train_data['date'].dt.month\n",
    "train_df['day'] = train_data['date'].dt.dayofyear\n",
    "train_df['weekday'] = train_data['date'].dt.weekday\n",
    "\n",
    "train_df"
   ]
  },
  {
   "cell_type": "code",
   "execution_count": 66,
   "id": "f537b36c",
   "metadata": {},
   "outputs": [],
   "source": [
    "train_data.set_index('date',inplace=True)"
   ]
  },
  {
   "cell_type": "code",
   "execution_count": 67,
   "id": "0424474b",
   "metadata": {},
   "outputs": [
    {
     "data": {
      "text/html": [
       "<div>\n",
       "<style scoped>\n",
       "    .dataframe tbody tr th:only-of-type {\n",
       "        vertical-align: middle;\n",
       "    }\n",
       "\n",
       "    .dataframe tbody tr th {\n",
       "        vertical-align: top;\n",
       "    }\n",
       "\n",
       "    .dataframe thead th {\n",
       "        text-align: right;\n",
       "    }\n",
       "</style>\n",
       "<table border=\"1\" class=\"dataframe\">\n",
       "  <thead>\n",
       "    <tr style=\"text-align: right;\">\n",
       "      <th></th>\n",
       "      <th>store</th>\n",
       "      <th>item</th>\n",
       "      <th>sales</th>\n",
       "    </tr>\n",
       "    <tr>\n",
       "      <th>date</th>\n",
       "      <th></th>\n",
       "      <th></th>\n",
       "      <th></th>\n",
       "    </tr>\n",
       "  </thead>\n",
       "  <tbody>\n",
       "    <tr>\n",
       "      <th>2013-01-01</th>\n",
       "      <td>1</td>\n",
       "      <td>1</td>\n",
       "      <td>13.0</td>\n",
       "    </tr>\n",
       "    <tr>\n",
       "      <th>2013-01-02</th>\n",
       "      <td>1</td>\n",
       "      <td>1</td>\n",
       "      <td>11.0</td>\n",
       "    </tr>\n",
       "    <tr>\n",
       "      <th>2013-01-03</th>\n",
       "      <td>1</td>\n",
       "      <td>1</td>\n",
       "      <td>14.0</td>\n",
       "    </tr>\n",
       "    <tr>\n",
       "      <th>2013-01-04</th>\n",
       "      <td>1</td>\n",
       "      <td>1</td>\n",
       "      <td>13.0</td>\n",
       "    </tr>\n",
       "    <tr>\n",
       "      <th>2013-01-05</th>\n",
       "      <td>1</td>\n",
       "      <td>1</td>\n",
       "      <td>10.0</td>\n",
       "    </tr>\n",
       "    <tr>\n",
       "      <th>...</th>\n",
       "      <td>...</td>\n",
       "      <td>...</td>\n",
       "      <td>...</td>\n",
       "    </tr>\n",
       "    <tr>\n",
       "      <th>2017-12-27</th>\n",
       "      <td>10</td>\n",
       "      <td>50</td>\n",
       "      <td>63.0</td>\n",
       "    </tr>\n",
       "    <tr>\n",
       "      <th>2017-12-28</th>\n",
       "      <td>10</td>\n",
       "      <td>50</td>\n",
       "      <td>59.0</td>\n",
       "    </tr>\n",
       "    <tr>\n",
       "      <th>2017-12-29</th>\n",
       "      <td>10</td>\n",
       "      <td>50</td>\n",
       "      <td>74.0</td>\n",
       "    </tr>\n",
       "    <tr>\n",
       "      <th>2017-12-30</th>\n",
       "      <td>10</td>\n",
       "      <td>50</td>\n",
       "      <td>62.0</td>\n",
       "    </tr>\n",
       "    <tr>\n",
       "      <th>2017-12-31</th>\n",
       "      <td>10</td>\n",
       "      <td>50</td>\n",
       "      <td>82.0</td>\n",
       "    </tr>\n",
       "  </tbody>\n",
       "</table>\n",
       "<p>913000 rows × 3 columns</p>\n",
       "</div>"
      ],
      "text/plain": [
       "            store  item  sales\n",
       "date                          \n",
       "2013-01-01      1     1   13.0\n",
       "2013-01-02      1     1   11.0\n",
       "2013-01-03      1     1   14.0\n",
       "2013-01-04      1     1   13.0\n",
       "2013-01-05      1     1   10.0\n",
       "...           ...   ...    ...\n",
       "2017-12-27     10    50   63.0\n",
       "2017-12-28     10    50   59.0\n",
       "2017-12-29     10    50   74.0\n",
       "2017-12-30     10    50   62.0\n",
       "2017-12-31     10    50   82.0\n",
       "\n",
       "[913000 rows x 3 columns]"
      ]
     },
     "execution_count": 67,
     "metadata": {},
     "output_type": "execute_result"
    }
   ],
   "source": [
    "train_data"
   ]
  },
  {
   "cell_type": "markdown",
   "id": "827d1b9e",
   "metadata": {},
   "source": [
    "Maximum Sales 2013-2017"
   ]
  },
  {
   "cell_type": "code",
   "execution_count": 69,
   "id": "d9c1f5da",
   "metadata": {},
   "outputs": [
    {
     "data": {
      "text/plain": [
       "Text(0, 0.5, 'sales')"
      ]
     },
     "execution_count": 69,
     "metadata": {},
     "output_type": "execute_result"
    },
    {
     "data": {
      "image/png": "[encoded data removed]",
      "text/plain": [
       "<Figure size 720x360 with 1 Axes>"
      ]
     },
     "metadata": {
      "needs_background": "light"
     },
     "output_type": "display_data"
    }
   ],
   "source": [
    "train_data['sales'].resample('D').plot(figsize=(10,5),c='green')\n",
    "plt.ylabel('sales')"
   ]
  },
  {
   "cell_type": "markdown",
   "id": "ec271317",
   "metadata": {},
   "source": [
    "Maximun sales in 2013"
   ]
  },
  {
   "cell_type": "code",
   "execution_count": 70,
   "id": "7e8c22ef",
   "metadata": {},
   "outputs": [
    {
     "data": {
      "text/plain": [
       "<AxesSubplot:xlabel='date'>"
      ]
     },
     "execution_count": 70,
     "metadata": {},
     "output_type": "execute_result"
    },
    {
     "data": {
      "image/png": "[encoded data removed]",
      "text/plain": [
       "<Figure size 720x360 with 1 Axes>"
      ]
     },
     "metadata": {
      "needs_background": "light"
     },
     "output_type": "display_data"
    }
   ],
   "source": [
    "train_data['sales'].resample('D').max().loc['2013-01-01':'2013-12-31'].plot(figsize=(10,5))"
   ]
  },
  {
   "cell_type": "markdown",
   "id": "7641d324",
   "metadata": {},
   "source": [
    "Maximum sales in 2014"
   ]
  },
  {
   "cell_type": "code",
   "execution_count": 71,
   "id": "61293bd4",
   "metadata": {},
   "outputs": [
    {
     "data": {
      "text/plain": [
       "<AxesSubplot:xlabel='date'>"
      ]
     },
     "execution_count": 71,
     "metadata": {},
     "output_type": "execute_result"
    },
    {
     "data": {
      "image/png": "[encoded data removed]",
      "text/plain": [
       "<Figure size 720x360 with 1 Axes>"
      ]
     },
     "metadata": {
      "needs_background": "light"
     },
     "output_type": "display_data"
    }
   ],
   "source": [
    "train_data['sales'].resample('D').max().loc['2014-01-01':'2014-12-31'].plot(figsize=(10,5))"
   ]
  },
  {
   "cell_type": "markdown",
   "id": "0f68d250",
   "metadata": {},
   "source": [
    "Maximum sales in 2015"
   ]
  },
  {
   "cell_type": "code",
   "execution_count": 72,
   "id": "2d775393",
   "metadata": {},
   "outputs": [
    {
     "data": {
      "text/plain": [
       "<AxesSubplot:xlabel='date'>"
      ]
     },
     "execution_count": 72,
     "metadata": {},
     "output_type": "execute_result"
    },
    {
     "data": {
      "image/png": "[encoded data removed]",
      "text/plain": [
       "<Figure size 720x360 with 1 Axes>"
      ]
     },
     "metadata": {
      "needs_background": "light"
     },
     "output_type": "display_data"
    }
   ],
   "source": [
    "train_data['sales'].resample('D').max().loc['2015-01-01':'2015-12-31'].plot(figsize=(10,5))"
   ]
  },
  {
   "cell_type": "markdown",
   "id": "72befaf3",
   "metadata": {},
   "source": [
    "Maximum sales in 2016"
   ]
  },
  {
   "cell_type": "code",
   "execution_count": 73,
   "id": "5022ab1b",
   "metadata": {},
   "outputs": [
    {
     "data": {
      "text/plain": [
       "<AxesSubplot:xlabel='date'>"
      ]
     },
     "execution_count": 73,
     "metadata": {},
     "output_type": "execute_result"
    },
    {
     "data": {
      "image/png": "[encoded data removed]",
      "text/plain": [
       "<Figure size 720x360 with 1 Axes>"
      ]
     },
     "metadata": {
      "needs_background": "light"
     },
     "output_type": "display_data"
    }
   ],
   "source": [
    "train_data['sales'].resample('D').max().loc['2016-01-01':'2016-12-31'].plot(figsize=(10,5))"
   ]
  },
  {
   "cell_type": "markdown",
   "id": "788ed00a",
   "metadata": {},
   "source": [
    "Maximum sales in 2017"
   ]
  },
  {
   "cell_type": "code",
   "execution_count": 74,
   "id": "085a9eb8",
   "metadata": {},
   "outputs": [
    {
     "data": {
      "text/plain": [
       "<AxesSubplot:xlabel='date'>"
      ]
     },
     "execution_count": 74,
     "metadata": {},
     "output_type": "execute_result"
    },
    {
     "data": {
      "image/png": "[encoded data removed]",
      "text/plain": [
       "<Figure size 720x360 with 1 Axes>"
      ]
     },
     "metadata": {
      "needs_background": "light"
     },
     "output_type": "display_data"
    }
   ],
   "source": [
    "train_data['sales'].resample('D').max().loc['2017-01-01':'2017-12-31'].plot(figsize=(10,5))"
   ]
  },
  {
   "cell_type": "code",
   "execution_count": 75,
   "id": "3c8167a4",
   "metadata": {},
   "outputs": [
    {
     "data": {
      "text/plain": [
       "<AxesSubplot:xlabel='date', ylabel='sales'>"
      ]
     },
     "execution_count": 75,
     "metadata": {},
     "output_type": "execute_result"
    },
    {
     "data": {
      "image/png": "[encoded data removed]",
      "text/plain": [
       "<Figure size 432x288 with 1 Axes>"
      ]
     },
     "metadata": {
      "needs_background": "light"
     },
     "output_type": "display_data"
    }
   ],
   "source": [
    "sns.lineplot(x=\"date\", y=\"sales\",legend = 'full' , data=train_df)"
   ]
  },
  {
   "cell_type": "code",
   "execution_count": 76,
   "id": "4d7d3879",
   "metadata": {},
   "outputs": [
    {
     "data": {
      "text/plain": [
       "<AxesSubplot:xlabel='year'>"
      ]
     },
     "execution_count": 76,
     "metadata": {},
     "output_type": "execute_result"
    },
    {
     "data": {
      "image/png": "[encoded data removed]",
      "text/plain": [
       "<Figure size 432x288 with 1 Axes>"
      ]
     },
     "metadata": {
      "needs_background": "light"
     },
     "output_type": "display_data"
    }
   ],
   "source": [
    "train_df.groupby('year')['sales'].mean().plot.bar()"
   ]
  },
  {
   "cell_type": "code",
   "execution_count": 77,
   "id": "de9db3b8",
   "metadata": {},
   "outputs": [
    {
     "data": {
      "text/plain": [
       "<AxesSubplot:xlabel='month'>"
      ]
     },
     "execution_count": 77,
     "metadata": {},
     "output_type": "execute_result"
    },
    {
     "data": {
      "image/png": "[encoded data removed]",
      "text/plain": [
       "<Figure size 432x288 with 1 Axes>"
      ]
     },
     "metadata": {
      "needs_background": "light"
     },
     "output_type": "display_data"
    }
   ],
   "source": [
    "train_df.groupby('month')['sales'].mean().plot.bar()"
   ]
  },
  {
   "cell_type": "code",
   "execution_count": 78,
   "id": "63871ff3",
   "metadata": {},
   "outputs": [
    {
     "data": {
      "text/plain": [
       "<AxesSubplot:xlabel='weekday'>"
      ]
     },
     "execution_count": 78,
     "metadata": {},
     "output_type": "execute_result"
    },
    {
     "data": {
      "image/png": "[encoded data removed]",
      "text/plain": [
       "<Figure size 432x288 with 1 Axes>"
      ]
     },
     "metadata": {
      "needs_background": "light"
     },
     "output_type": "display_data"
    }
   ],
   "source": [
    "train_df.groupby('weekday')['sales'].mean().plot.bar()"
   ]
  },
  {
   "cell_type": "code",
   "execution_count": 82,
   "id": "e887353f",
   "metadata": {},
   "outputs": [
    {
     "data": {
      "text/plain": [
       "<AxesSubplot:xlabel='date'>"
      ]
     },
     "execution_count": 82,
     "metadata": {},
     "output_type": "execute_result"
    },
    {
     "data": {
      "image/png": "[encoded data removed]",
      "text/plain": [
       "<Figure size 720x360 with 1 Axes>"
      ]
     },
     "metadata": {
      "needs_background": "light"
     },
     "output_type": "display_data"
    }
   ],
   "source": [
    "train_data['mov_avg'] =train_data['sales'].rolling(window=360).mean()\n",
    "train_data['mov_avg'].dropna().plot(figsize=(10,5))"
   ]
  },
  {
   "cell_type": "code",
   "execution_count": 83,
   "id": "7ed5abf2",
   "metadata": {},
   "outputs": [],
   "source": [
    "test_data['date']=pd.to_datetime(test_data['date'])"
   ]
  },
  {
   "cell_type": "code",
   "execution_count": 84,
   "id": "5fdf9b57",
   "metadata": {},
   "outputs": [],
   "source": [
    "test_data.set_index('date',inplace=True)"
   ]
  },
  {
   "cell_type": "code",
   "execution_count": 85,
   "id": "8381219f",
   "metadata": {},
   "outputs": [
    {
     "data": {
      "text/html": [
       "<div>\n",
       "<style scoped>\n",
       "    .dataframe tbody tr th:only-of-type {\n",
       "        vertical-align: middle;\n",
       "    }\n",
       "\n",
       "    .dataframe tbody tr th {\n",
       "        vertical-align: top;\n",
       "    }\n",
       "\n",
       "    .dataframe thead th {\n",
       "        text-align: right;\n",
       "    }\n",
       "</style>\n",
       "<table border=\"1\" class=\"dataframe\">\n",
       "  <thead>\n",
       "    <tr style=\"text-align: right;\">\n",
       "      <th></th>\n",
       "      <th>id</th>\n",
       "      <th>store</th>\n",
       "      <th>item</th>\n",
       "    </tr>\n",
       "    <tr>\n",
       "      <th>date</th>\n",
       "      <th></th>\n",
       "      <th></th>\n",
       "      <th></th>\n",
       "    </tr>\n",
       "  </thead>\n",
       "  <tbody>\n",
       "    <tr>\n",
       "      <th>2018-01-01</th>\n",
       "      <td>0</td>\n",
       "      <td>1</td>\n",
       "      <td>1</td>\n",
       "    </tr>\n",
       "    <tr>\n",
       "      <th>2018-01-02</th>\n",
       "      <td>1</td>\n",
       "      <td>1</td>\n",
       "      <td>1</td>\n",
       "    </tr>\n",
       "    <tr>\n",
       "      <th>2018-01-03</th>\n",
       "      <td>2</td>\n",
       "      <td>1</td>\n",
       "      <td>1</td>\n",
       "    </tr>\n",
       "    <tr>\n",
       "      <th>2018-01-04</th>\n",
       "      <td>3</td>\n",
       "      <td>1</td>\n",
       "      <td>1</td>\n",
       "    </tr>\n",
       "    <tr>\n",
       "      <th>2018-01-05</th>\n",
       "      <td>4</td>\n",
       "      <td>1</td>\n",
       "      <td>1</td>\n",
       "    </tr>\n",
       "    <tr>\n",
       "      <th>...</th>\n",
       "      <td>...</td>\n",
       "      <td>...</td>\n",
       "      <td>...</td>\n",
       "    </tr>\n",
       "    <tr>\n",
       "      <th>2018-03-27</th>\n",
       "      <td>44995</td>\n",
       "      <td>10</td>\n",
       "      <td>50</td>\n",
       "    </tr>\n",
       "    <tr>\n",
       "      <th>2018-03-28</th>\n",
       "      <td>44996</td>\n",
       "      <td>10</td>\n",
       "      <td>50</td>\n",
       "    </tr>\n",
       "    <tr>\n",
       "      <th>2018-03-29</th>\n",
       "      <td>44997</td>\n",
       "      <td>10</td>\n",
       "      <td>50</td>\n",
       "    </tr>\n",
       "    <tr>\n",
       "      <th>2018-03-30</th>\n",
       "      <td>44998</td>\n",
       "      <td>10</td>\n",
       "      <td>50</td>\n",
       "    </tr>\n",
       "    <tr>\n",
       "      <th>2018-03-31</th>\n",
       "      <td>44999</td>\n",
       "      <td>10</td>\n",
       "      <td>50</td>\n",
       "    </tr>\n",
       "  </tbody>\n",
       "</table>\n",
       "<p>45000 rows × 3 columns</p>\n",
       "</div>"
      ],
      "text/plain": [
       "               id  store  item\n",
       "date                          \n",
       "2018-01-01      0      1     1\n",
       "2018-01-02      1      1     1\n",
       "2018-01-03      2      1     1\n",
       "2018-01-04      3      1     1\n",
       "2018-01-05      4      1     1\n",
       "...           ...    ...   ...\n",
       "2018-03-27  44995     10    50\n",
       "2018-03-28  44996     10    50\n",
       "2018-03-29  44997     10    50\n",
       "2018-03-30  44998     10    50\n",
       "2018-03-31  44999     10    50\n",
       "\n",
       "[45000 rows x 3 columns]"
      ]
     },
     "execution_count": 85,
     "metadata": {},
     "output_type": "execute_result"
    }
   ],
   "source": [
    "test_data"
   ]
  },
  {
   "cell_type": "markdown",
   "id": "806eec6e",
   "metadata": {},
   "source": [
    "# Modelling"
   ]
  },
  {
   "cell_type": "markdown",
   "id": "5a4fa0cc",
   "metadata": {},
   "source": [
    "1.Baseline model"
   ]
  },
  {
   "cell_type": "code",
   "execution_count": 86,
   "id": "58094661",
   "metadata": {},
   "outputs": [],
   "source": [
    "data1=train_data"
   ]
  },
  {
   "cell_type": "code",
   "execution_count": 87,
   "id": "9a5af7e8",
   "metadata": {},
   "outputs": [],
   "source": [
    "data1=data1.drop([])"
   ]
  },
  {
   "cell_type": "code",
   "execution_count": 88,
   "id": "eaac8c65",
   "metadata": {},
   "outputs": [
    {
     "data": {
      "text/plain": [
       "pandas.core.series.Series"
      ]
     },
     "execution_count": 88,
     "metadata": {},
     "output_type": "execute_result"
    }
   ],
   "source": [
    "series=data1['sales'].squeeze()\n",
    "type(series)"
   ]
  },
  {
   "cell_type": "code",
   "execution_count": 89,
   "id": "5ab3f660",
   "metadata": {},
   "outputs": [],
   "source": [
    "values=pd.DataFrame(series)"
   ]
  },
  {
   "cell_type": "code",
   "execution_count": 90,
   "id": "bb2ee09d",
   "metadata": {},
   "outputs": [],
   "source": [
    "base_model=pd.concat([values,values.shift(1)],axis=1)"
   ]
  },
  {
   "cell_type": "code",
   "execution_count": 91,
   "id": "7dd406f8",
   "metadata": {},
   "outputs": [
    {
     "data": {
      "text/html": [
       "<div>\n",
       "<style scoped>\n",
       "    .dataframe tbody tr th:only-of-type {\n",
       "        vertical-align: middle;\n",
       "    }\n",
       "\n",
       "    .dataframe tbody tr th {\n",
       "        vertical-align: top;\n",
       "    }\n",
       "\n",
       "    .dataframe thead th {\n",
       "        text-align: right;\n",
       "    }\n",
       "</style>\n",
       "<table border=\"1\" class=\"dataframe\">\n",
       "  <thead>\n",
       "    <tr style=\"text-align: right;\">\n",
       "      <th></th>\n",
       "      <th>sales</th>\n",
       "      <th>sales</th>\n",
       "    </tr>\n",
       "    <tr>\n",
       "      <th>date</th>\n",
       "      <th></th>\n",
       "      <th></th>\n",
       "    </tr>\n",
       "  </thead>\n",
       "  <tbody>\n",
       "    <tr>\n",
       "      <th>2013-01-01</th>\n",
       "      <td>13.0</td>\n",
       "      <td>NaN</td>\n",
       "    </tr>\n",
       "    <tr>\n",
       "      <th>2013-01-02</th>\n",
       "      <td>11.0</td>\n",
       "      <td>13.0</td>\n",
       "    </tr>\n",
       "    <tr>\n",
       "      <th>2013-01-03</th>\n",
       "      <td>14.0</td>\n",
       "      <td>11.0</td>\n",
       "    </tr>\n",
       "    <tr>\n",
       "      <th>2013-01-04</th>\n",
       "      <td>13.0</td>\n",
       "      <td>14.0</td>\n",
       "    </tr>\n",
       "    <tr>\n",
       "      <th>2013-01-05</th>\n",
       "      <td>10.0</td>\n",
       "      <td>13.0</td>\n",
       "    </tr>\n",
       "  </tbody>\n",
       "</table>\n",
       "</div>"
      ],
      "text/plain": [
       "            sales  sales\n",
       "date                    \n",
       "2013-01-01   13.0    NaN\n",
       "2013-01-02   11.0   13.0\n",
       "2013-01-03   14.0   11.0\n",
       "2013-01-04   13.0   14.0\n",
       "2013-01-05   10.0   13.0"
      ]
     },
     "execution_count": 91,
     "metadata": {},
     "output_type": "execute_result"
    }
   ],
   "source": [
    "base_model.head()"
   ]
  },
  {
   "cell_type": "code",
   "execution_count": 92,
   "id": "f850e35a",
   "metadata": {},
   "outputs": [],
   "source": [
    "base_model.columns=['Actual_sales','Forecasted_sales']"
   ]
  },
  {
   "cell_type": "code",
   "execution_count": 93,
   "id": "6942ce0f",
   "metadata": {},
   "outputs": [
    {
     "data": {
      "text/html": [
       "<div>\n",
       "<style scoped>\n",
       "    .dataframe tbody tr th:only-of-type {\n",
       "        vertical-align: middle;\n",
       "    }\n",
       "\n",
       "    .dataframe tbody tr th {\n",
       "        vertical-align: top;\n",
       "    }\n",
       "\n",
       "    .dataframe thead th {\n",
       "        text-align: right;\n",
       "    }\n",
       "</style>\n",
       "<table border=\"1\" class=\"dataframe\">\n",
       "  <thead>\n",
       "    <tr style=\"text-align: right;\">\n",
       "      <th></th>\n",
       "      <th>Actual_sales</th>\n",
       "      <th>Forecasted_sales</th>\n",
       "    </tr>\n",
       "    <tr>\n",
       "      <th>date</th>\n",
       "      <th></th>\n",
       "      <th></th>\n",
       "    </tr>\n",
       "  </thead>\n",
       "  <tbody>\n",
       "    <tr>\n",
       "      <th>2013-01-01</th>\n",
       "      <td>13.0</td>\n",
       "      <td>NaN</td>\n",
       "    </tr>\n",
       "    <tr>\n",
       "      <th>2013-01-02</th>\n",
       "      <td>11.0</td>\n",
       "      <td>13.0</td>\n",
       "    </tr>\n",
       "    <tr>\n",
       "      <th>2013-01-03</th>\n",
       "      <td>14.0</td>\n",
       "      <td>11.0</td>\n",
       "    </tr>\n",
       "    <tr>\n",
       "      <th>2013-01-04</th>\n",
       "      <td>13.0</td>\n",
       "      <td>14.0</td>\n",
       "    </tr>\n",
       "    <tr>\n",
       "      <th>2013-01-05</th>\n",
       "      <td>10.0</td>\n",
       "      <td>13.0</td>\n",
       "    </tr>\n",
       "  </tbody>\n",
       "</table>\n",
       "</div>"
      ],
      "text/plain": [
       "            Actual_sales  Forecasted_sales\n",
       "date                                      \n",
       "2013-01-01          13.0               NaN\n",
       "2013-01-02          11.0              13.0\n",
       "2013-01-03          14.0              11.0\n",
       "2013-01-04          13.0              14.0\n",
       "2013-01-05          10.0              13.0"
      ]
     },
     "execution_count": 93,
     "metadata": {},
     "output_type": "execute_result"
    }
   ],
   "source": [
    "base_model.head()"
   ]
  },
  {
   "cell_type": "code",
   "execution_count": 94,
   "id": "29e95f71",
   "metadata": {},
   "outputs": [
    {
     "data": {
      "text/html": [
       "<div>\n",
       "<style scoped>\n",
       "    .dataframe tbody tr th:only-of-type {\n",
       "        vertical-align: middle;\n",
       "    }\n",
       "\n",
       "    .dataframe tbody tr th {\n",
       "        vertical-align: top;\n",
       "    }\n",
       "\n",
       "    .dataframe thead th {\n",
       "        text-align: right;\n",
       "    }\n",
       "</style>\n",
       "<table border=\"1\" class=\"dataframe\">\n",
       "  <thead>\n",
       "    <tr style=\"text-align: right;\">\n",
       "      <th></th>\n",
       "      <th>Actual_sales</th>\n",
       "      <th>Forecasted_sales</th>\n",
       "    </tr>\n",
       "    <tr>\n",
       "      <th>date</th>\n",
       "      <th></th>\n",
       "      <th></th>\n",
       "    </tr>\n",
       "  </thead>\n",
       "  <tbody>\n",
       "    <tr>\n",
       "      <th>2013-01-02</th>\n",
       "      <td>11.0</td>\n",
       "      <td>13.0</td>\n",
       "    </tr>\n",
       "    <tr>\n",
       "      <th>2013-01-03</th>\n",
       "      <td>14.0</td>\n",
       "      <td>11.0</td>\n",
       "    </tr>\n",
       "    <tr>\n",
       "      <th>2013-01-04</th>\n",
       "      <td>13.0</td>\n",
       "      <td>14.0</td>\n",
       "    </tr>\n",
       "    <tr>\n",
       "      <th>2013-01-05</th>\n",
       "      <td>10.0</td>\n",
       "      <td>13.0</td>\n",
       "    </tr>\n",
       "    <tr>\n",
       "      <th>2013-01-06</th>\n",
       "      <td>12.0</td>\n",
       "      <td>10.0</td>\n",
       "    </tr>\n",
       "    <tr>\n",
       "      <th>...</th>\n",
       "      <td>...</td>\n",
       "      <td>...</td>\n",
       "    </tr>\n",
       "    <tr>\n",
       "      <th>2017-12-27</th>\n",
       "      <td>63.0</td>\n",
       "      <td>41.0</td>\n",
       "    </tr>\n",
       "    <tr>\n",
       "      <th>2017-12-28</th>\n",
       "      <td>59.0</td>\n",
       "      <td>63.0</td>\n",
       "    </tr>\n",
       "    <tr>\n",
       "      <th>2017-12-29</th>\n",
       "      <td>74.0</td>\n",
       "      <td>59.0</td>\n",
       "    </tr>\n",
       "    <tr>\n",
       "      <th>2017-12-30</th>\n",
       "      <td>62.0</td>\n",
       "      <td>74.0</td>\n",
       "    </tr>\n",
       "    <tr>\n",
       "      <th>2017-12-31</th>\n",
       "      <td>82.0</td>\n",
       "      <td>62.0</td>\n",
       "    </tr>\n",
       "  </tbody>\n",
       "</table>\n",
       "<p>912999 rows × 2 columns</p>\n",
       "</div>"
      ],
      "text/plain": [
       "            Actual_sales  Forecasted_sales\n",
       "date                                      \n",
       "2013-01-02          11.0              13.0\n",
       "2013-01-03          14.0              11.0\n",
       "2013-01-04          13.0              14.0\n",
       "2013-01-05          10.0              13.0\n",
       "2013-01-06          12.0              10.0\n",
       "...                  ...               ...\n",
       "2017-12-27          63.0              41.0\n",
       "2017-12-28          59.0              63.0\n",
       "2017-12-29          74.0              59.0\n",
       "2017-12-30          62.0              74.0\n",
       "2017-12-31          82.0              62.0\n",
       "\n",
       "[912999 rows x 2 columns]"
      ]
     },
     "execution_count": 94,
     "metadata": {},
     "output_type": "execute_result"
    }
   ],
   "source": [
    "base_model.dropna()"
   ]
  },
  {
   "cell_type": "code",
   "execution_count": 95,
   "id": "cdf331ef",
   "metadata": {},
   "outputs": [
    {
     "data": {
      "text/html": [
       "<div>\n",
       "<style scoped>\n",
       "    .dataframe tbody tr th:only-of-type {\n",
       "        vertical-align: middle;\n",
       "    }\n",
       "\n",
       "    .dataframe tbody tr th {\n",
       "        vertical-align: top;\n",
       "    }\n",
       "\n",
       "    .dataframe thead th {\n",
       "        text-align: right;\n",
       "    }\n",
       "</style>\n",
       "<table border=\"1\" class=\"dataframe\">\n",
       "  <thead>\n",
       "    <tr style=\"text-align: right;\">\n",
       "      <th></th>\n",
       "      <th>Actual_sales</th>\n",
       "      <th>Forecasted_sales</th>\n",
       "    </tr>\n",
       "    <tr>\n",
       "      <th>date</th>\n",
       "      <th></th>\n",
       "      <th></th>\n",
       "    </tr>\n",
       "  </thead>\n",
       "  <tbody>\n",
       "    <tr>\n",
       "      <th>2013-01-02</th>\n",
       "      <td>11.0</td>\n",
       "      <td>13.0</td>\n",
       "    </tr>\n",
       "    <tr>\n",
       "      <th>2013-01-03</th>\n",
       "      <td>14.0</td>\n",
       "      <td>11.0</td>\n",
       "    </tr>\n",
       "    <tr>\n",
       "      <th>2013-01-04</th>\n",
       "      <td>13.0</td>\n",
       "      <td>14.0</td>\n",
       "    </tr>\n",
       "    <tr>\n",
       "      <th>2013-01-05</th>\n",
       "      <td>10.0</td>\n",
       "      <td>13.0</td>\n",
       "    </tr>\n",
       "    <tr>\n",
       "      <th>2013-01-06</th>\n",
       "      <td>12.0</td>\n",
       "      <td>10.0</td>\n",
       "    </tr>\n",
       "  </tbody>\n",
       "</table>\n",
       "</div>"
      ],
      "text/plain": [
       "            Actual_sales  Forecasted_sales\n",
       "date                                      \n",
       "2013-01-02          11.0              13.0\n",
       "2013-01-03          14.0              11.0\n",
       "2013-01-04          13.0              14.0\n",
       "2013-01-05          10.0              13.0\n",
       "2013-01-06          12.0              10.0"
      ]
     },
     "execution_count": 95,
     "metadata": {},
     "output_type": "execute_result"
    }
   ],
   "source": [
    "base_test=base_model[1:]\n",
    "base_test.head()"
   ]
  },
  {
   "cell_type": "code",
   "execution_count": 96,
   "id": "0899e820",
   "metadata": {},
   "outputs": [],
   "source": [
    "from sklearn.metrics import mean_squared_error"
   ]
  },
  {
   "cell_type": "code",
   "execution_count": 97,
   "id": "05d6d304",
   "metadata": {},
   "outputs": [
    {
     "data": {
      "text/plain": [
       "189.05599568017053"
      ]
     },
     "execution_count": 97,
     "metadata": {},
     "output_type": "execute_result"
    }
   ],
   "source": [
    "base_error=mean_squared_error(base_test.Actual_sales,base_test.Forecasted_sales)\n",
    "base_error"
   ]
  },
  {
   "cell_type": "code",
   "execution_count": 98,
   "id": "d97640b4",
   "metadata": {},
   "outputs": [
    {
     "data": {
      "text/plain": [
       "13.749763477244636"
      ]
     },
     "execution_count": 98,
     "metadata": {},
     "output_type": "execute_result"
    }
   ],
   "source": [
    "np.sqrt(base_error)"
   ]
  },
  {
   "cell_type": "code",
   "execution_count": 99,
   "id": "76abc0e5",
   "metadata": {},
   "outputs": [],
   "source": [
    "from statsmodels.graphics.tsaplots import plot_acf,plot_pacf"
   ]
  },
  {
   "cell_type": "code",
   "execution_count": 100,
   "id": "2b6437ae",
   "metadata": {},
   "outputs": [
    {
     "data": {
      "image/png": "[encoded data removed]",
      "text/plain": [
       "<Figure size 432x288 with 1 Axes>"
      ]
     },
     "execution_count": 100,
     "metadata": {},
     "output_type": "execute_result"
    },
    {
     "data": {
      "image/png": "[encoded data removed]",
      "text/plain": [
       "<Figure size 432x288 with 1 Axes>"
      ]
     },
     "metadata": {
      "needs_background": "light"
     },
     "output_type": "display_data"
    }
   ],
   "source": [
    "plot_acf(series,lags=25)"
   ]
  },
  {
   "cell_type": "code",
   "execution_count": 101,
   "id": "2b210182",
   "metadata": {},
   "outputs": [
    {
     "data": {
      "image/png": "[encoded data removed]",
      "text/plain": [
       "<Figure size 432x288 with 1 Axes>"
      ]
     },
     "execution_count": 101,
     "metadata": {},
     "output_type": "execute_result"
    },
    {
     "data": {
      "image/png": "[encoded data removed]",
      "text/plain": [
       "<Figure size 432x288 with 1 Axes>"
      ]
     },
     "metadata": {
      "needs_background": "light"
     },
     "output_type": "display_data"
    }
   ],
   "source": [
    "plot_pacf(series,lags=25)"
   ]
  },
  {
   "cell_type": "code",
   "execution_count": 102,
   "id": "660a9e43",
   "metadata": {},
   "outputs": [
    {
     "data": {
      "text/plain": [
       "Index(['store', 'item', 'sales', 'mov_avg'], dtype='object')"
      ]
     },
     "execution_count": 102,
     "metadata": {},
     "output_type": "execute_result"
    }
   ],
   "source": [
    "train_data.columns"
   ]
  },
  {
   "cell_type": "code",
   "execution_count": 103,
   "id": "4ee39ca5",
   "metadata": {},
   "outputs": [],
   "source": [
    "train_data=train_data.drop(['mov_avg'],axis=1)"
   ]
  },
  {
   "cell_type": "code",
   "execution_count": 104,
   "id": "8ac6c6c8",
   "metadata": {},
   "outputs": [],
   "source": [
    "test=series[0:225000]\n",
    "train=series[225000:912999]"
   ]
  },
  {
   "cell_type": "code",
   "execution_count": 105,
   "id": "7ea2d791",
   "metadata": {},
   "outputs": [
    {
     "data": {
      "text/plain": [
       "225000"
      ]
     },
     "execution_count": 105,
     "metadata": {},
     "output_type": "execute_result"
    }
   ],
   "source": [
    "test.size"
   ]
  },
  {
   "cell_type": "markdown",
   "id": "912c212f",
   "metadata": {},
   "source": [
    "2.ARIMA"
   ]
  },
  {
   "cell_type": "code",
   "execution_count": 106,
   "id": "4ae35f8a",
   "metadata": {},
   "outputs": [],
   "source": [
    "import statsmodels.api as sm\n",
    "import warnings\n",
    "warnings.filterwarnings('ignore')"
   ]
  },
  {
   "cell_type": "code",
   "execution_count": 107,
   "id": "01c01317",
   "metadata": {},
   "outputs": [
    {
     "data": {
      "text/html": [
       "<table class=\"simpletable\">\n",
       "<caption>SARIMAX Results</caption>\n",
       "<tr>\n",
       "  <th>Dep. Variable:</th>         <td>sales</td>      <th>  No. Observations:  </th>    <td>687999</td>   \n",
       "</tr>\n",
       "<tr>\n",
       "  <th>Model:</th>            <td>ARIMA(0, 1, 0)</td>  <th>  Log Likelihood     </th> <td>-2776663.876</td>\n",
       "</tr>\n",
       "<tr>\n",
       "  <th>Date:</th>            <td>Thu, 06 Oct 2022</td> <th>  AIC                </th>  <td>5553329.752</td>\n",
       "</tr>\n",
       "<tr>\n",
       "  <th>Time:</th>                <td>09:13:23</td>     <th>  BIC                </th>  <td>5553341.193</td>\n",
       "</tr>\n",
       "<tr>\n",
       "  <th>Sample:</th>                  <td>0</td>        <th>  HQIC               </th>  <td>5553332.949</td>\n",
       "</tr>\n",
       "<tr>\n",
       "  <th></th>                     <td> - 687999</td>    <th>                     </th>       <td> </td>     \n",
       "</tr>\n",
       "<tr>\n",
       "  <th>Covariance Type:</th>        <td>opg</td>       <th>                     </th>       <td> </td>     \n",
       "</tr>\n",
       "</table>\n",
       "<table class=\"simpletable\">\n",
       "<tr>\n",
       "     <td></td>       <th>coef</th>     <th>std err</th>      <th>z</th>      <th>P>|z|</th>  <th>[0.025</th>    <th>0.975]</th>  \n",
       "</tr>\n",
       "<tr>\n",
       "  <th>sigma2</th> <td>  187.5119</td> <td>    0.232</td> <td>  809.687</td> <td> 0.000</td> <td>  187.058</td> <td>  187.966</td>\n",
       "</tr>\n",
       "</table>\n",
       "<table class=\"simpletable\">\n",
       "<tr>\n",
       "  <th>Ljung-Box (L1) (Q):</th>     <td>121466.97</td> <th>  Jarque-Bera (JB):  </th> <td>152239.24</td>\n",
       "</tr>\n",
       "<tr>\n",
       "  <th>Prob(Q):</th>                  <td>0.00</td>    <th>  Prob(JB):          </th>   <td>0.00</td>   \n",
       "</tr>\n",
       "<tr>\n",
       "  <th>Heteroskedasticity (H):</th>   <td>0.75</td>    <th>  Skew:              </th>   <td>-0.71</td>  \n",
       "</tr>\n",
       "<tr>\n",
       "  <th>Prob(H) (two-sided):</th>      <td>0.00</td>    <th>  Kurtosis:          </th>   <td>4.81</td>   \n",
       "</tr>\n",
       "</table><br/><br/>Warnings:<br/>[1] Covariance matrix calculated using the outer product of gradients (complex-step)."
      ],
      "text/plain": [
       "<class 'statsmodels.iolib.summary.Summary'>\n",
       "\"\"\"\n",
       "                               SARIMAX Results                                \n",
       "==============================================================================\n",
       "Dep. Variable:                  sales   No. Observations:               687999\n",
       "Model:                 ARIMA(0, 1, 0)   Log Likelihood            -2776663.876\n",
       "Date:                Thu, 06 Oct 2022   AIC                        5553329.752\n",
       "Time:                        09:13:23   BIC                        5553341.193\n",
       "Sample:                             0   HQIC                       5553332.949\n",
       "                             - 687999                                         \n",
       "Covariance Type:                  opg                                         \n",
       "==============================================================================\n",
       "                 coef    std err          z      P>|z|      [0.025      0.975]\n",
       "------------------------------------------------------------------------------\n",
       "sigma2       187.5119      0.232    809.687      0.000     187.058     187.966\n",
       "===================================================================================\n",
       "Ljung-Box (L1) (Q):              121466.97   Jarque-Bera (JB):            152239.24\n",
       "Prob(Q):                              0.00   Prob(JB):                         0.00\n",
       "Heteroskedasticity (H):               0.75   Skew:                            -0.71\n",
       "Prob(H) (two-sided):                  0.00   Kurtosis:                         4.81\n",
       "===================================================================================\n",
       "\n",
       "Warnings:\n",
       "[1] Covariance matrix calculated using the outer product of gradients (complex-step).\n",
       "\"\"\""
      ]
     },
     "execution_count": 107,
     "metadata": {},
     "output_type": "execute_result"
    }
   ],
   "source": [
    "model = sm.tsa.arima.ARIMA(train, order=(0,1,0))\n",
    "result = model.fit()\n",
    "result.summary()"
   ]
  },
  {
   "cell_type": "code",
   "execution_count": 108,
   "id": "6a8b29c2",
   "metadata": {},
   "outputs": [
    {
     "name": "stdout",
     "output_type": "stream",
     "text": [
      "687999    62.0\n",
      "688000    62.0\n",
      "688001    62.0\n",
      "688002    62.0\n",
      "688003    62.0\n",
      "          ... \n",
      "912994    62.0\n",
      "912995    62.0\n",
      "912996    62.0\n",
      "912997    62.0\n",
      "912998    62.0\n",
      "Name: predicted_mean, Length: 225000, dtype: float64\n"
     ]
    }
   ],
   "source": [
    "start=len(train)\n",
    "end=len(train)+len(test)-1\n",
    "pred=result.predict(start=start,end=end,typ='levels')\n",
    "print(pred)"
   ]
  },
  {
   "cell_type": "code",
   "execution_count": 109,
   "id": "923e74cf",
   "metadata": {},
   "outputs": [
    {
     "data": {
      "text/plain": [
       "<AxesSubplot:xlabel='date'>"
      ]
     },
     "execution_count": 109,
     "metadata": {},
     "output_type": "execute_result"
    },
    {
     "data": {
      "image/png": "[encoded data removed]",
      "text/plain": [
       "<Figure size 432x288 with 1 Axes>"
      ]
     },
     "metadata": {
      "needs_background": "light"
     },
     "output_type": "display_data"
    }
   ],
   "source": [
    "pred.plot(legend=True)\n",
    "test.plot(legend=True)"
   ]
  },
  {
   "cell_type": "code",
   "execution_count": 110,
   "id": "7e4c09db",
   "metadata": {},
   "outputs": [
    {
     "data": {
      "text/plain": [
       "52.24135111111111"
      ]
     },
     "execution_count": 110,
     "metadata": {},
     "output_type": "execute_result"
    }
   ],
   "source": [
    "test.mean()"
   ]
  },
  {
   "cell_type": "code",
   "execution_count": 111,
   "id": "27b905d2",
   "metadata": {},
   "outputs": [
    {
     "name": "stdout",
     "output_type": "stream",
     "text": [
      "29.906060924167196\n"
     ]
    }
   ],
   "source": [
    "from math import sqrt\n",
    "from sklearn.metrics import mean_squared_error\n",
    "rmse=sqrt(mean_squared_error(test,pred))\n",
    "print(rmse)"
   ]
  },
  {
   "cell_type": "code",
   "execution_count": 112,
   "id": "4da527bf",
   "metadata": {},
   "outputs": [
    {
     "data": {
      "text/html": [
       "<div>\n",
       "<style scoped>\n",
       "    .dataframe tbody tr th:only-of-type {\n",
       "        vertical-align: middle;\n",
       "    }\n",
       "\n",
       "    .dataframe tbody tr th {\n",
       "        vertical-align: top;\n",
       "    }\n",
       "\n",
       "    .dataframe thead th {\n",
       "        text-align: right;\n",
       "    }\n",
       "</style>\n",
       "<table border=\"1\" class=\"dataframe\">\n",
       "  <thead>\n",
       "    <tr style=\"text-align: right;\">\n",
       "      <th></th>\n",
       "      <th>store</th>\n",
       "      <th>item</th>\n",
       "      <th>sales</th>\n",
       "    </tr>\n",
       "    <tr>\n",
       "      <th>date</th>\n",
       "      <th></th>\n",
       "      <th></th>\n",
       "      <th></th>\n",
       "    </tr>\n",
       "  </thead>\n",
       "  <tbody>\n",
       "    <tr>\n",
       "      <th>2013-01-01</th>\n",
       "      <td>1</td>\n",
       "      <td>1</td>\n",
       "      <td>13.0</td>\n",
       "    </tr>\n",
       "    <tr>\n",
       "      <th>2013-01-02</th>\n",
       "      <td>1</td>\n",
       "      <td>1</td>\n",
       "      <td>11.0</td>\n",
       "    </tr>\n",
       "    <tr>\n",
       "      <th>2013-01-03</th>\n",
       "      <td>1</td>\n",
       "      <td>1</td>\n",
       "      <td>14.0</td>\n",
       "    </tr>\n",
       "    <tr>\n",
       "      <th>2013-01-04</th>\n",
       "      <td>1</td>\n",
       "      <td>1</td>\n",
       "      <td>13.0</td>\n",
       "    </tr>\n",
       "    <tr>\n",
       "      <th>2013-01-05</th>\n",
       "      <td>1</td>\n",
       "      <td>1</td>\n",
       "      <td>10.0</td>\n",
       "    </tr>\n",
       "    <tr>\n",
       "      <th>...</th>\n",
       "      <td>...</td>\n",
       "      <td>...</td>\n",
       "      <td>...</td>\n",
       "    </tr>\n",
       "    <tr>\n",
       "      <th>2017-12-27</th>\n",
       "      <td>10</td>\n",
       "      <td>50</td>\n",
       "      <td>63.0</td>\n",
       "    </tr>\n",
       "    <tr>\n",
       "      <th>2017-12-28</th>\n",
       "      <td>10</td>\n",
       "      <td>50</td>\n",
       "      <td>59.0</td>\n",
       "    </tr>\n",
       "    <tr>\n",
       "      <th>2017-12-29</th>\n",
       "      <td>10</td>\n",
       "      <td>50</td>\n",
       "      <td>74.0</td>\n",
       "    </tr>\n",
       "    <tr>\n",
       "      <th>2017-12-30</th>\n",
       "      <td>10</td>\n",
       "      <td>50</td>\n",
       "      <td>62.0</td>\n",
       "    </tr>\n",
       "    <tr>\n",
       "      <th>2017-12-31</th>\n",
       "      <td>10</td>\n",
       "      <td>50</td>\n",
       "      <td>82.0</td>\n",
       "    </tr>\n",
       "  </tbody>\n",
       "</table>\n",
       "<p>913000 rows × 3 columns</p>\n",
       "</div>"
      ],
      "text/plain": [
       "            store  item  sales\n",
       "date                          \n",
       "2013-01-01      1     1   13.0\n",
       "2013-01-02      1     1   11.0\n",
       "2013-01-03      1     1   14.0\n",
       "2013-01-04      1     1   13.0\n",
       "2013-01-05      1     1   10.0\n",
       "...           ...   ...    ...\n",
       "2017-12-27     10    50   63.0\n",
       "2017-12-28     10    50   59.0\n",
       "2017-12-29     10    50   74.0\n",
       "2017-12-30     10    50   62.0\n",
       "2017-12-31     10    50   82.0\n",
       "\n",
       "[913000 rows x 3 columns]"
      ]
     },
     "execution_count": 112,
     "metadata": {},
     "output_type": "execute_result"
    }
   ],
   "source": [
    "train_data"
   ]
  },
  {
   "cell_type": "markdown",
   "id": "6d2b6046",
   "metadata": {},
   "source": [
    "3.XGBRegressor"
   ]
  },
  {
   "cell_type": "code",
   "execution_count": 113,
   "id": "14075295",
   "metadata": {},
   "outputs": [],
   "source": [
    "from xgboost import XGBRegressor\n",
    "from sklearn.datasets import load_boston\n",
    "from sklearn.model_selection import train_test_split\n",
    "from sklearn.model_selection import cross_val_score\n",
    "from sklearn.metrics import mean_squared_error"
   ]
  },
  {
   "cell_type": "code",
   "execution_count": 114,
   "id": "47024a54",
   "metadata": {},
   "outputs": [
    {
     "data": {
      "text/plain": [
       "(913000, 3)"
      ]
     },
     "execution_count": 114,
     "metadata": {},
     "output_type": "execute_result"
    }
   ],
   "source": [
    "train_data.shape"
   ]
  },
  {
   "cell_type": "code",
   "execution_count": 115,
   "id": "512271ed",
   "metadata": {},
   "outputs": [],
   "source": [
    "x=train_data.drop(['sales'],axis=1)\n",
    "y=train_data['sales']"
   ]
  },
  {
   "cell_type": "code",
   "execution_count": 116,
   "id": "887ce014",
   "metadata": {},
   "outputs": [
    {
     "data": {
      "text/plain": [
       "(730400, 2)"
      ]
     },
     "execution_count": 116,
     "metadata": {},
     "output_type": "execute_result"
    }
   ],
   "source": [
    "from sklearn.model_selection import train_test_split\n",
    "x_train,x_test,y_train,y_test=train_test_split(x,y,random_state=42,test_size=0.2)\n",
    "x_train.shape"
   ]
  },
  {
   "cell_type": "code",
   "execution_count": 117,
   "id": "f044b148",
   "metadata": {},
   "outputs": [
    {
     "data": {
      "text/html": [
       "<style>#sk-container-id-1 {color: black;background-color: white;}#sk-container-id-1 pre{padding: 0;}#sk-container-id-1 div.sk-toggleable {background-color: white;}#sk-container-id-1 label.sk-toggleable__label {cursor: pointer;display: block;width: 100%;margin-bottom: 0;padding: 0.3em;box-sizing: border-box;text-align: center;}#sk-container-id-1 label.sk-toggleable__label-arrow:before {content: \"▸\";float: left;margin-right: 0.25em;color: #696969;}#sk-container-id-1 label.sk-toggleable__label-arrow:hover:before {color: black;}#sk-container-id-1 div.sk-estimator:hover label.sk-toggleable__label-arrow:before {color: black;}#sk-container-id-1 div.sk-toggleable__content {max-height: 0;max-width: 0;overflow: hidden;text-align: left;background-color: #f0f8ff;}#sk-container-id-1 div.sk-toggleable__content pre {margin: 0.2em;color: black;border-radius: 0.25em;background-color: #f0f8ff;}#sk-container-id-1 input.sk-toggleable__control:checked~div.sk-toggleable__content {max-height: 200px;max-width: 100%;overflow: auto;}#sk-container-id-1 input.sk-toggleable__control:checked~label.sk-toggleable__label-arrow:before {content: \"▾\";}#sk-container-id-1 div.sk-estimator input.sk-toggleable__control:checked~label.sk-toggleable__label {background-color: #d4ebff;}#sk-container-id-1 div.sk-label input.sk-toggleable__control:checked~label.sk-toggleable__label {background-color: #d4ebff;}#sk-container-id-1 input.sk-hidden--visually {border: 0;clip: rect(1px 1px 1px 1px);clip: rect(1px, 1px, 1px, 1px);height: 1px;margin: -1px;overflow: hidden;padding: 0;position: absolute;width: 1px;}#sk-container-id-1 div.sk-estimator {font-family: monospace;background-color: #f0f8ff;border: 1px dotted black;border-radius: 0.25em;box-sizing: border-box;margin-bottom: 0.5em;}#sk-container-id-1 div.sk-estimator:hover {background-color: #d4ebff;}#sk-container-id-1 div.sk-parallel-item::after {content: \"\";width: 100%;border-bottom: 1px solid gray;flex-grow: 1;}#sk-container-id-1 div.sk-label:hover label.sk-toggleable__label {background-color: #d4ebff;}#sk-container-id-1 div.sk-serial::before {content: \"\";position: absolute;border-left: 1px solid gray;box-sizing: border-box;top: 0;bottom: 0;left: 50%;z-index: 0;}#sk-container-id-1 div.sk-serial {display: flex;flex-direction: column;align-items: center;background-color: white;padding-right: 0.2em;padding-left: 0.2em;position: relative;}#sk-container-id-1 div.sk-item {position: relative;z-index: 1;}#sk-container-id-1 div.sk-parallel {display: flex;align-items: stretch;justify-content: center;background-color: white;position: relative;}#sk-container-id-1 div.sk-item::before, #sk-container-id-1 div.sk-parallel-item::before {content: \"\";position: absolute;border-left: 1px solid gray;box-sizing: border-box;top: 0;bottom: 0;left: 50%;z-index: -1;}#sk-container-id-1 div.sk-parallel-item {display: flex;flex-direction: column;z-index: 1;position: relative;background-color: white;}#sk-container-id-1 div.sk-parallel-item:first-child::after {align-self: flex-end;width: 50%;}#sk-container-id-1 div.sk-parallel-item:last-child::after {align-self: flex-start;width: 50%;}#sk-container-id-1 div.sk-parallel-item:only-child::after {width: 0;}#sk-container-id-1 div.sk-dashed-wrapped {border: 1px dashed gray;margin: 0 0.4em 0.5em 0.4em;box-sizing: border-box;padding-bottom: 0.4em;background-color: white;}#sk-container-id-1 div.sk-label label {font-family: monospace;font-weight: bold;display: inline-block;line-height: 1.2em;}#sk-container-id-1 div.sk-label-container {text-align: center;}#sk-container-id-1 div.sk-container {/* jupyter's `normalize.less` sets `[hidden] { display: none; }` but bootstrap.min.css set `[hidden] { display: none !important; }` so we also need the `!important` here to be able to override the default hidden behavior on the sphinx rendered scikit-learn.org. See: https://github.com/scikit-learn/scikit-learn/issues/21755 */display: inline-block !important;position: relative;}#sk-container-id-1 div.sk-text-repr-fallback {display: none;}</style><div id=\"sk-container-id-1\" class=\"sk-top-container\"><div class=\"sk-text-repr-fallback\"><pre>XGBRegressor(base_score=0.5, booster=&#x27;gbtree&#x27;, callbacks=None,\n",
       "             colsample_bylevel=1, colsample_bynode=1, colsample_bytree=1,\n",
       "             early_stopping_rounds=None, enable_categorical=False,\n",
       "             eval_metric=None, gamma=0, gpu_id=-1, grow_policy=&#x27;depthwise&#x27;,\n",
       "             importance_type=None, interaction_constraints=&#x27;&#x27;,\n",
       "             learning_rate=0.300000012, max_bin=256, max_cat_to_onehot=4,\n",
       "             max_delta_step=0, max_depth=6, max_leaves=0, min_child_weight=1,\n",
       "             missing=nan, monotone_constraints=&#x27;()&#x27;, n_estimators=100, n_jobs=0,\n",
       "             num_parallel_tree=1, predictor=&#x27;auto&#x27;, random_state=0, reg_alpha=0,\n",
       "             reg_lambda=1, ...)</pre><b>In a Jupyter environment, please rerun this cell to show the HTML representation or trust the notebook. <br />On GitHub, the HTML representation is unable to render, please try loading this page with nbviewer.org.</b></div><div class=\"sk-container\" hidden><div class=\"sk-item\"><div class=\"sk-estimator sk-toggleable\"><input class=\"sk-toggleable__control sk-hidden--visually\" id=\"sk-estimator-id-1\" type=\"checkbox\" checked><label for=\"sk-estimator-id-1\" class=\"sk-toggleable__label sk-toggleable__label-arrow\">XGBRegressor</label><div class=\"sk-toggleable__content\"><pre>XGBRegressor(base_score=0.5, booster=&#x27;gbtree&#x27;, callbacks=None,\n",
       "             colsample_bylevel=1, colsample_bynode=1, colsample_bytree=1,\n",
       "             early_stopping_rounds=None, enable_categorical=False,\n",
       "             eval_metric=None, gamma=0, gpu_id=-1, grow_policy=&#x27;depthwise&#x27;,\n",
       "             importance_type=None, interaction_constraints=&#x27;&#x27;,\n",
       "             learning_rate=0.300000012, max_bin=256, max_cat_to_onehot=4,\n",
       "             max_delta_step=0, max_depth=6, max_leaves=0, min_child_weight=1,\n",
       "             missing=nan, monotone_constraints=&#x27;()&#x27;, n_estimators=100, n_jobs=0,\n",
       "             num_parallel_tree=1, predictor=&#x27;auto&#x27;, random_state=0, reg_alpha=0,\n",
       "             reg_lambda=1, ...)</pre></div></div></div></div></div>"
      ],
      "text/plain": [
       "XGBRegressor(base_score=0.5, booster='gbtree', callbacks=None,\n",
       "             colsample_bylevel=1, colsample_bynode=1, colsample_bytree=1,\n",
       "             early_stopping_rounds=None, enable_categorical=False,\n",
       "             eval_metric=None, gamma=0, gpu_id=-1, grow_policy='depthwise',\n",
       "             importance_type=None, interaction_constraints='',\n",
       "             learning_rate=0.300000012, max_bin=256, max_cat_to_onehot=4,\n",
       "             max_delta_step=0, max_depth=6, max_leaves=0, min_child_weight=1,\n",
       "             missing=nan, monotone_constraints='()', n_estimators=100, n_jobs=0,\n",
       "             num_parallel_tree=1, predictor='auto', random_state=0, reg_alpha=0,\n",
       "             reg_lambda=1, ...)"
      ]
     },
     "execution_count": 117,
     "metadata": {},
     "output_type": "execute_result"
    }
   ],
   "source": [
    "model = XGBRegressor()\n",
    "model.fit(x_train, y_train)"
   ]
  },
  {
   "cell_type": "code",
   "execution_count": 118,
   "id": "8a2a7985",
   "metadata": {},
   "outputs": [],
   "source": [
    "predictions=model.predict(x_test)"
   ]
  },
  {
   "cell_type": "code",
   "execution_count": 119,
   "id": "c04201ed",
   "metadata": {},
   "outputs": [
    {
     "data": {
      "text/plain": [
       "array([24.971336, 16.687822, 65.84769 , ..., 78.97705 , 79.72152 ,\n",
       "       97.22801 ], dtype=float32)"
      ]
     },
     "execution_count": 119,
     "metadata": {},
     "output_type": "execute_result"
    }
   ],
   "source": [
    "predictions"
   ]
  },
  {
   "cell_type": "code",
   "execution_count": 120,
   "id": "2e3d75d4",
   "metadata": {},
   "outputs": [
    {
     "data": {
      "text/html": [
       "<div>\n",
       "<style scoped>\n",
       "    .dataframe tbody tr th:only-of-type {\n",
       "        vertical-align: middle;\n",
       "    }\n",
       "\n",
       "    .dataframe tbody tr th {\n",
       "        vertical-align: top;\n",
       "    }\n",
       "\n",
       "    .dataframe thead th {\n",
       "        text-align: right;\n",
       "    }\n",
       "</style>\n",
       "<table border=\"1\" class=\"dataframe\">\n",
       "  <thead>\n",
       "    <tr style=\"text-align: right;\">\n",
       "      <th></th>\n",
       "      <th>0</th>\n",
       "    </tr>\n",
       "  </thead>\n",
       "  <tbody>\n",
       "    <tr>\n",
       "      <th>0</th>\n",
       "      <td>24.971336</td>\n",
       "    </tr>\n",
       "    <tr>\n",
       "      <th>1</th>\n",
       "      <td>16.687822</td>\n",
       "    </tr>\n",
       "    <tr>\n",
       "      <th>2</th>\n",
       "      <td>65.847687</td>\n",
       "    </tr>\n",
       "    <tr>\n",
       "      <th>3</th>\n",
       "      <td>80.467636</td>\n",
       "    </tr>\n",
       "    <tr>\n",
       "      <th>4</th>\n",
       "      <td>45.985428</td>\n",
       "    </tr>\n",
       "    <tr>\n",
       "      <th>...</th>\n",
       "      <td>...</td>\n",
       "    </tr>\n",
       "    <tr>\n",
       "      <th>182595</th>\n",
       "      <td>89.501717</td>\n",
       "    </tr>\n",
       "    <tr>\n",
       "      <th>182596</th>\n",
       "      <td>58.800190</td>\n",
       "    </tr>\n",
       "    <tr>\n",
       "      <th>182597</th>\n",
       "      <td>78.977051</td>\n",
       "    </tr>\n",
       "    <tr>\n",
       "      <th>182598</th>\n",
       "      <td>79.721519</td>\n",
       "    </tr>\n",
       "    <tr>\n",
       "      <th>182599</th>\n",
       "      <td>97.228012</td>\n",
       "    </tr>\n",
       "  </tbody>\n",
       "</table>\n",
       "<p>182600 rows × 1 columns</p>\n",
       "</div>"
      ],
      "text/plain": [
       "                0\n",
       "0       24.971336\n",
       "1       16.687822\n",
       "2       65.847687\n",
       "3       80.467636\n",
       "4       45.985428\n",
       "...           ...\n",
       "182595  89.501717\n",
       "182596  58.800190\n",
       "182597  78.977051\n",
       "182598  79.721519\n",
       "182599  97.228012\n",
       "\n",
       "[182600 rows x 1 columns]"
      ]
     },
     "execution_count": 120,
     "metadata": {},
     "output_type": "execute_result"
    }
   ],
   "source": [
    "df=pd.DataFrame(predictions)\n",
    "df"
   ]
  },
  {
   "cell_type": "code",
   "execution_count": 121,
   "id": "e2c6f08a",
   "metadata": {},
   "outputs": [
    {
     "name": "stdout",
     "output_type": "stream",
     "text": [
      "MSE: 235.34999296606225\n"
     ]
    }
   ],
   "source": [
    "mse=mean_squared_error(y_test,predictions)\n",
    "print('MSE:',mse)"
   ]
  },
  {
   "cell_type": "code",
   "execution_count": 122,
   "id": "42701e11",
   "metadata": {},
   "outputs": [
    {
     "name": "stdout",
     "output_type": "stream",
     "text": [
      "15.341120981403616\n"
     ]
    }
   ],
   "source": [
    "rmse=sqrt(mean_squared_error(y_test,predictions))\n",
    "print(rmse)"
   ]
  },
  {
   "cell_type": "code",
   "execution_count": 123,
   "id": "b572437d",
   "metadata": {},
   "outputs": [
    {
     "data": {
      "image/png": "[encoded data removed]",
      "text/plain": [
       "<Figure size 432x288 with 1 Axes>"
      ]
     },
     "metadata": {
      "needs_background": "light"
     },
     "output_type": "display_data"
    }
   ],
   "source": [
    "x_ax=range(len(y_test))\n",
    "plt.plot(x_ax,y_test,label='original')\n",
    "plt.plot(x_ax,predictions,label='predicted')\n",
    "plt.title('Bostontest and predicted data')\n",
    "plt.legend()\n",
    "plt.show()"
   ]
  },
  {
   "cell_type": "code",
   "execution_count": 124,
   "id": "30b58456",
   "metadata": {},
   "outputs": [
    {
     "data": {
      "text/html": [
       "<div>\n",
       "<style scoped>\n",
       "    .dataframe tbody tr th:only-of-type {\n",
       "        vertical-align: middle;\n",
       "    }\n",
       "\n",
       "    .dataframe tbody tr th {\n",
       "        vertical-align: top;\n",
       "    }\n",
       "\n",
       "    .dataframe thead th {\n",
       "        text-align: right;\n",
       "    }\n",
       "</style>\n",
       "<table border=\"1\" class=\"dataframe\">\n",
       "  <thead>\n",
       "    <tr style=\"text-align: right;\">\n",
       "      <th></th>\n",
       "      <th>store</th>\n",
       "      <th>item</th>\n",
       "      <th>sales</th>\n",
       "    </tr>\n",
       "    <tr>\n",
       "      <th>date</th>\n",
       "      <th></th>\n",
       "      <th></th>\n",
       "      <th></th>\n",
       "    </tr>\n",
       "  </thead>\n",
       "  <tbody>\n",
       "    <tr>\n",
       "      <th>2013-01-01</th>\n",
       "      <td>1</td>\n",
       "      <td>1</td>\n",
       "      <td>13.0</td>\n",
       "    </tr>\n",
       "    <tr>\n",
       "      <th>2013-01-02</th>\n",
       "      <td>1</td>\n",
       "      <td>1</td>\n",
       "      <td>11.0</td>\n",
       "    </tr>\n",
       "    <tr>\n",
       "      <th>2013-01-03</th>\n",
       "      <td>1</td>\n",
       "      <td>1</td>\n",
       "      <td>14.0</td>\n",
       "    </tr>\n",
       "    <tr>\n",
       "      <th>2013-01-04</th>\n",
       "      <td>1</td>\n",
       "      <td>1</td>\n",
       "      <td>13.0</td>\n",
       "    </tr>\n",
       "    <tr>\n",
       "      <th>2013-01-05</th>\n",
       "      <td>1</td>\n",
       "      <td>1</td>\n",
       "      <td>10.0</td>\n",
       "    </tr>\n",
       "    <tr>\n",
       "      <th>...</th>\n",
       "      <td>...</td>\n",
       "      <td>...</td>\n",
       "      <td>...</td>\n",
       "    </tr>\n",
       "    <tr>\n",
       "      <th>2017-12-27</th>\n",
       "      <td>10</td>\n",
       "      <td>50</td>\n",
       "      <td>63.0</td>\n",
       "    </tr>\n",
       "    <tr>\n",
       "      <th>2017-12-28</th>\n",
       "      <td>10</td>\n",
       "      <td>50</td>\n",
       "      <td>59.0</td>\n",
       "    </tr>\n",
       "    <tr>\n",
       "      <th>2017-12-29</th>\n",
       "      <td>10</td>\n",
       "      <td>50</td>\n",
       "      <td>74.0</td>\n",
       "    </tr>\n",
       "    <tr>\n",
       "      <th>2017-12-30</th>\n",
       "      <td>10</td>\n",
       "      <td>50</td>\n",
       "      <td>62.0</td>\n",
       "    </tr>\n",
       "    <tr>\n",
       "      <th>2017-12-31</th>\n",
       "      <td>10</td>\n",
       "      <td>50</td>\n",
       "      <td>82.0</td>\n",
       "    </tr>\n",
       "  </tbody>\n",
       "</table>\n",
       "<p>913000 rows × 3 columns</p>\n",
       "</div>"
      ],
      "text/plain": [
       "            store  item  sales\n",
       "date                          \n",
       "2013-01-01      1     1   13.0\n",
       "2013-01-02      1     1   11.0\n",
       "2013-01-03      1     1   14.0\n",
       "2013-01-04      1     1   13.0\n",
       "2013-01-05      1     1   10.0\n",
       "...           ...   ...    ...\n",
       "2017-12-27     10    50   63.0\n",
       "2017-12-28     10    50   59.0\n",
       "2017-12-29     10    50   74.0\n",
       "2017-12-30     10    50   62.0\n",
       "2017-12-31     10    50   82.0\n",
       "\n",
       "[913000 rows x 3 columns]"
      ]
     },
     "execution_count": 124,
     "metadata": {},
     "output_type": "execute_result"
    }
   ],
   "source": [
    "train_data"
   ]
  },
  {
   "cell_type": "code",
   "execution_count": 125,
   "id": "26860aad",
   "metadata": {},
   "outputs": [],
   "source": [
    "from sklearn import linear_model\n",
    "lr=linear_model.LinearRegression() "
   ]
  },
  {
   "cell_type": "code",
   "execution_count": 126,
   "id": "c13ceae7",
   "metadata": {},
   "outputs": [],
   "source": [
    "lrmodel=lr.fit(x_train,y_train)\n",
    "pred=lrmodel.predict(x_test)"
   ]
  },
  {
   "cell_type": "code",
   "execution_count": 127,
   "id": "e46e17e0",
   "metadata": {},
   "outputs": [
    {
     "name": "stdout",
     "output_type": "stream",
     "text": [
      "[51.59077789 54.34305561 54.2909152  ... 53.68012522 51.84403185\n",
      " 54.17918503]\n"
     ]
    }
   ],
   "source": [
    "print(pred)"
   ]
  },
  {
   "cell_type": "code",
   "execution_count": 128,
   "id": "876bc8f4",
   "metadata": {},
   "outputs": [
    {
     "name": "stdout",
     "output_type": "stream",
     "text": [
      "MSE 793.6569518460776\n"
     ]
    }
   ],
   "source": [
    "print(\"MSE\",mean_squared_error(y_test,pred))"
   ]
  },
  {
   "cell_type": "code",
   "execution_count": 129,
   "id": "3da7fd8f",
   "metadata": {},
   "outputs": [
    {
     "data": {
      "text/plain": [
       "0.0036191555274804887"
      ]
     },
     "execution_count": 129,
     "metadata": {},
     "output_type": "execute_result"
    }
   ],
   "source": [
    "from sklearn.metrics import r2_score\n",
    "r_sq=r2_score(y_test,pred)\n",
    "r_sq"
   ]
  },
  {
   "cell_type": "code",
   "execution_count": 130,
   "id": "3c8e007b",
   "metadata": {},
   "outputs": [
    {
     "data": {
      "text/html": [
       "<div>\n",
       "<style scoped>\n",
       "    .dataframe tbody tr th:only-of-type {\n",
       "        vertical-align: middle;\n",
       "    }\n",
       "\n",
       "    .dataframe tbody tr th {\n",
       "        vertical-align: top;\n",
       "    }\n",
       "\n",
       "    .dataframe thead th {\n",
       "        text-align: right;\n",
       "    }\n",
       "</style>\n",
       "<table border=\"1\" class=\"dataframe\">\n",
       "  <thead>\n",
       "    <tr style=\"text-align: right;\">\n",
       "      <th></th>\n",
       "      <th>store</th>\n",
       "      <th>item</th>\n",
       "      <th>sales</th>\n",
       "    </tr>\n",
       "    <tr>\n",
       "      <th>date</th>\n",
       "      <th></th>\n",
       "      <th></th>\n",
       "      <th></th>\n",
       "    </tr>\n",
       "  </thead>\n",
       "  <tbody>\n",
       "    <tr>\n",
       "      <th>2013-01-01</th>\n",
       "      <td>1</td>\n",
       "      <td>1</td>\n",
       "      <td>13.0</td>\n",
       "    </tr>\n",
       "    <tr>\n",
       "      <th>2013-01-02</th>\n",
       "      <td>1</td>\n",
       "      <td>1</td>\n",
       "      <td>11.0</td>\n",
       "    </tr>\n",
       "    <tr>\n",
       "      <th>2013-01-03</th>\n",
       "      <td>1</td>\n",
       "      <td>1</td>\n",
       "      <td>14.0</td>\n",
       "    </tr>\n",
       "    <tr>\n",
       "      <th>2013-01-04</th>\n",
       "      <td>1</td>\n",
       "      <td>1</td>\n",
       "      <td>13.0</td>\n",
       "    </tr>\n",
       "    <tr>\n",
       "      <th>2013-01-05</th>\n",
       "      <td>1</td>\n",
       "      <td>1</td>\n",
       "      <td>10.0</td>\n",
       "    </tr>\n",
       "    <tr>\n",
       "      <th>...</th>\n",
       "      <td>...</td>\n",
       "      <td>...</td>\n",
       "      <td>...</td>\n",
       "    </tr>\n",
       "    <tr>\n",
       "      <th>2017-12-27</th>\n",
       "      <td>10</td>\n",
       "      <td>50</td>\n",
       "      <td>63.0</td>\n",
       "    </tr>\n",
       "    <tr>\n",
       "      <th>2017-12-28</th>\n",
       "      <td>10</td>\n",
       "      <td>50</td>\n",
       "      <td>59.0</td>\n",
       "    </tr>\n",
       "    <tr>\n",
       "      <th>2017-12-29</th>\n",
       "      <td>10</td>\n",
       "      <td>50</td>\n",
       "      <td>74.0</td>\n",
       "    </tr>\n",
       "    <tr>\n",
       "      <th>2017-12-30</th>\n",
       "      <td>10</td>\n",
       "      <td>50</td>\n",
       "      <td>62.0</td>\n",
       "    </tr>\n",
       "    <tr>\n",
       "      <th>2017-12-31</th>\n",
       "      <td>10</td>\n",
       "      <td>50</td>\n",
       "      <td>82.0</td>\n",
       "    </tr>\n",
       "  </tbody>\n",
       "</table>\n",
       "<p>913000 rows × 3 columns</p>\n",
       "</div>"
      ],
      "text/plain": [
       "            store  item  sales\n",
       "date                          \n",
       "2013-01-01      1     1   13.0\n",
       "2013-01-02      1     1   11.0\n",
       "2013-01-03      1     1   14.0\n",
       "2013-01-04      1     1   13.0\n",
       "2013-01-05      1     1   10.0\n",
       "...           ...   ...    ...\n",
       "2017-12-27     10    50   63.0\n",
       "2017-12-28     10    50   59.0\n",
       "2017-12-29     10    50   74.0\n",
       "2017-12-30     10    50   62.0\n",
       "2017-12-31     10    50   82.0\n",
       "\n",
       "[913000 rows x 3 columns]"
      ]
     },
     "execution_count": 130,
     "metadata": {},
     "output_type": "execute_result"
    }
   ],
   "source": [
    "train_data"
   ]
  },
  {
   "cell_type": "code",
   "execution_count": 131,
   "id": "f83e2599",
   "metadata": {},
   "outputs": [],
   "source": [
    "train_data.to_csv('salesdata.csv',index=False)"
   ]
  },
  {
   "cell_type": "code",
   "execution_count": null,
   "id": "bba3a6aa",
   "metadata": {},
   "outputs": [],
   "source": []
  }
 ],
 "metadata": {
  "kernelspec": {
   "display_name": "Python 3 (ipykernel)",
   "language": "python",
   "name": "python3"
  },
  "language_info": {
   "codemirror_mode": {
    "name": "ipython",
    "version": 3
   },
   "file_extension": ".py",
   "mimetype": "text/x-python",
   "name": "python",
   "nbconvert_exporter": "python",
   "pygments_lexer": "ipython3",
   "version": "3.9.7"
  }
 },
 "nbformat": 4,
 "nbformat_minor": 5
}
