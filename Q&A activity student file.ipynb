{
 "cells": [
  {
   "cell_type": "markdown",
   "metadata": {},
   "source": [
    "## 1. Complete the following code to find the area of an equilateral triangle. Output should be as displayed"
   ]
  },
  {
   "cell_type": "code",
   "execution_count": 1,
   "metadata": {},
   "outputs": [
    {
     "name": "stdout",
     "output_type": "stream",
     "text": [
      "Enter the side of the equilateral triangle: 3\n",
      "AREA= 3.8971143170299736\n"
     ]
    }
   ],
   "source": [
    "import math\n",
    "side = float(input(\"Enter the side of the equilateral triangle: \"))\n",
    "area = ((math.sqrt(3))/4)*pow(side,2)\n",
    "print('AREA=',area)"
   ]
  },
  {
   "cell_type": "markdown",
   "metadata": {},
   "source": [
    "## 2. Write a program to count the number of each characters in a string"
   ]
  },
  {
   "cell_type": "code",
   "execution_count": 2,
   "metadata": {},
   "outputs": [
    {
     "name": "stdout",
     "output_type": "stream",
     "text": [
      "enter a sting valueevery\n",
      "{'e': 2, 'v': 1, 'r': 1, 'y': 1}\n"
     ]
    }
   ],
   "source": [
    "str1=input('enter a sting value')\n",
    "d1=dict()\n",
    "for c in str1:\n",
    "    if c in d1:\n",
    "        d1[c]+=1\n",
    "    else:\n",
    "        d1[c]=1\n",
    "print(d1)        "
   ]
  },
  {
   "cell_type": "markdown",
   "metadata": {},
   "source": [
    "## 3. Write a program to find the area and perimeter of a rectangle using functions"
   ]
  },
  {
   "cell_type": "code",
   "execution_count": 5,
   "metadata": {},
   "outputs": [
    {
     "name": "stdout",
     "output_type": "stream",
     "text": [
      "enter the length2\n",
      "enter the breadth3\n",
      "PERIMETER= 10\n",
      "AREA 5\n"
     ]
    }
   ],
   "source": [
    "def peri(l,b):\n",
    "    p=2*(l+b)\n",
    "    print('PERIMETER=',p)\n",
    "def area(l,b):\n",
    "    a=l+b\n",
    "    print('AREA',a)\n",
    "length=int(input('enter the length'))\n",
    "breadth=int(input('enter the breadth'))\n",
    "peri(length,breadth)\n",
    "area(length,breadth)"
   ]
  },
  {
   "cell_type": "markdown",
   "metadata": {},
   "source": [
    "## 4. Write a program to print the fibonacci series till a specified number"
   ]
  },
  {
   "cell_type": "code",
   "execution_count": 3,
   "metadata": {},
   "outputs": [
    {
     "name": "stdout",
     "output_type": "stream",
     "text": [
      "enter the limit5\n",
      "fibonacci series\n",
      "0\n",
      "1\n",
      "1\n",
      "2\n",
      "3\n"
     ]
    }
   ],
   "source": [
    "limit=int(input('enter the limit'))\n",
    "a=0\n",
    "b=1\n",
    "count=1\n",
    "print('fibonacci series')\n",
    "print(a)\n",
    "print(b)\n",
    "while(count<limit-1):\n",
    "    c=a+b\n",
    "    a=b\n",
    "    b=c\n",
    "    count+=1\n",
    "    print(c)"
   ]
  },
  {
   "cell_type": "markdown",
   "metadata": {},
   "source": [
    "## 5. Complete the following code to find the minimum of 3 number using conditional statements. Output should be as displayed"
   ]
  },
  {
   "cell_type": "code",
   "execution_count": 14,
   "metadata": {},
   "outputs": [
    {
     "name": "stdout",
     "output_type": "stream",
     "text": [
      "enter three numbers followed by:\n",
      "234\n",
      "first number: 2\n",
      "second number: 3\n",
      "third number: 4\n",
      "smallest is: 2\n"
     ]
    }
   ],
   "source": [
    "a,b,c=(input('enter three numbers followed by:\\n'))\n",
    "print('first number:',a)\n",
    "print('second number:',b)\n",
    "print('third number:',c)\n",
    "if(a==b==c):\n",
    "    print('number are equal')\n",
    "elif(a<b and a<c):\n",
    "    print('smallest is:',a)\n",
    "elif(b<c):\n",
    "    print('smallest is:',b)\n",
    "else:\n",
    "    print('smallest is:',c)\n",
    "    "
   ]
  },
  {
   "cell_type": "markdown",
   "metadata": {},
   "source": [
    "## 6. Write a program to print star pyramind. The number of rows should be taken as input from the user"
   ]
  },
  {
   "cell_type": "code",
   "execution_count": 25,
   "metadata": {},
   "outputs": [
    {
     "name": "stdout",
     "output_type": "stream",
     "text": [
      "enter the number of rows4\n",
      "\n",
      "*\n",
      "**\n",
      "***\n",
      "****\n"
     ]
    }
   ],
   "source": [
    "row=int(input('enter the number of rows'))\n",
    "for i in range(0,row+1):\n",
    "    for j in range(0,row-i):\n",
    "        print(end='')\n",
    "    for j in range(0,i):\n",
    "        print('*',end='')\n",
    "    print('')    \n",
    "            "
   ]
  },
  {
   "cell_type": "markdown",
   "metadata": {},
   "source": [
    "## 7. Complete the following code to convert hour into seconds. Output should be as displayed"
   ]
  },
  {
   "cell_type": "code",
   "execution_count": 17,
   "metadata": {},
   "outputs": [
    {
     "name": "stdout",
     "output_type": "stream",
     "text": [
      "enter the time in hours:24\n",
      "24 hours equal to 86400 second\n"
     ]
    }
   ],
   "source": [
    "hrs=int(input('enter the time in hours:'))\n",
    "second=hrs*60*60\n",
    "print(hrs,'hours equal to',second,'second')"
   ]
  },
  {
   "cell_type": "markdown",
   "metadata": {},
   "source": [
    "## 8. Write a program to print multiplication table as below"
   ]
  },
  {
   "cell_type": "code",
   "execution_count": 1,
   "metadata": {},
   "outputs": [
    {
     "name": "stdout",
     "output_type": "stream",
     "text": [
      "enter the number:67\n",
      "1 * 67 = 67\n",
      "2 * 67 = 134\n",
      "3 * 67 = 201\n",
      "4 * 67 = 268\n",
      "5 * 67 = 335\n",
      "6 * 67 = 402\n",
      "7 * 67 = 469\n",
      "8 * 67 = 536\n",
      "9 * 67 = 603\n",
      "10 * 67 = 670\n"
     ]
    }
   ],
   "source": [
    "def multiply(n):\n",
    "    for i in range(1,11):\n",
    "        print(i,'*',n,'=',i*n)\n",
    "number=int(input('enter the number:'))\n",
    "multiply(number)\n",
    "        "
   ]
  },
  {
   "cell_type": "markdown",
   "metadata": {},
   "source": [
    "## 9. Write a program to take your 5 favorite food as list and print each as 'I like Biriyani'"
   ]
  },
  {
   "cell_type": "code",
   "execution_count": 22,
   "metadata": {},
   "outputs": [
    {
     "name": "stdout",
     "output_type": "stream",
     "text": [
      "I likealuva\n",
      "I likebiriyani\n",
      "I likeicecream\n",
      "I likecake\n",
      "I liketea\n"
     ]
    }
   ],
   "source": [
    "item=['aluva','biriyani','icecream','cake','tea']\n",
    "for i in item:\n",
    "    print('I like'+i)"
   ]
  },
  {
   "cell_type": "code",
   "execution_count": null,
   "metadata": {},
   "outputs": [],
   "source": []
  }
 ],
 "metadata": {
  "kernelspec": {
   "display_name": "Python 3 (ipykernel)",
   "language": "python",
   "name": "python3"
  },
  "language_info": {
   "codemirror_mode": {
    "name": "ipython",
    "version": 3
   },
   "file_extension": ".py",
   "mimetype": "text/x-python",
   "name": "python",
   "nbconvert_exporter": "python",
   "pygments_lexer": "ipython3",
   "version": "3.9.7"
  }
 },
 "nbformat": 4,
 "nbformat_minor": 4
}
